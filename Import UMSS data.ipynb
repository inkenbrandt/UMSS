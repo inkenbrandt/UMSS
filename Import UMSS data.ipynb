{
 "metadata": {
  "name": "",
  "signature": "sha256:7cce2b2f256f25cb2c74f012187635a8761434041c7eea8a00b2a06937b45ec2"
 },
 "nbformat": 3,
 "nbformat_minor": 0,
 "worksheets": [
  {
   "cells": [
    {
     "cell_type": "code",
     "collapsed": false,
     "input": [
      "import MySQLdb"
     ],
     "language": "python",
     "metadata": {},
     "outputs": [],
     "prompt_number": 1
    },
    {
     "cell_type": "code",
     "collapsed": false,
     "input": [
      "import pandas as pd\n",
      "import numpy as np"
     ],
     "language": "python",
     "metadata": {},
     "outputs": [],
     "prompt_number": 58
    },
    {
     "cell_type": "code",
     "collapsed": false,
     "input": [
      "results1 = \"/media/p/5F5B-8FCB/manti/DOGM/17195131.txt\"\n",
      "results2 = \"/media/p/5F5B-8FCB/manti/DOGM/17320391.txt\"\n",
      "results3 = \"/media/p/5F5B-8FCB/manti/DOGM/17391924.txt\" \n",
      "results4 = \"/media/p/5F5B-8FCB/manti/DOGM/17462467.txt\""
     ],
     "language": "python",
     "metadata": {},
     "outputs": [],
     "prompt_number": 33
    },
    {
     "cell_type": "code",
     "collapsed": false,
     "input": [
      "head = ['MINE_ID', 'SITE_ID', 'LAB_CODE', 'LAB_ID', 'PARAM_ID', 'EQUALITY', 'VALUE', 'UNITS', \n",
      "        'MIN_DET', 'ANAL_METHD', 'DATE_ANAL', 'TIME_ANAL', 'ANAL_NAME', 'DATE_REC', \n",
      "        'DATE_RPT', 'DATE_SAMP', 'TIME_SAMP', 'SAMP_TYPE', 'SAMPLR_NAM', 'COMMENTS']"
     ],
     "language": "python",
     "metadata": {},
     "outputs": [],
     "prompt_number": 28
    },
    {
     "cell_type": "code",
     "collapsed": false,
     "input": [
      "r1 = pd.read_csv(results1, header=None, names= head, low_memory = False)#, parse_dates=[15])\n",
      "r2 = pd.read_csv(results2, header=None, names= head, low_memory = False)#, parse_dates=[15])\n",
      "r3 = pd.read_csv(results3, header=None, names= head, low_memory = False)#, parse_dates=[15])\n",
      "r4 = pd.read_csv(results4, header=None, names= head, low_memory = False)#, parse_dates=[15])"
     ],
     "language": "python",
     "metadata": {},
     "outputs": [],
     "prompt_number": 83
    },
    {
     "cell_type": "code",
     "collapsed": false,
     "input": [
      "rall = pd.concat([r1,r2,r3,r4])\n",
      "print rall.head(3)"
     ],
     "language": "python",
     "metadata": {},
     "outputs": [
      {
       "output_type": "stream",
       "stream": "stdout",
       "text": [
        "   MINE_ID  SITE_ID LAB_CODE      LAB_ID  PARAM_ID EQUALITY     VALUE UNITS  \\\n",
        "0        2        1      NOF  20150317-1        11      NaN  0.000000   GPM   \n",
        "1        2        1      NOF  20141208-3        11      NaN  0.000000   GPM   \n",
        "2        2        1      NOF  20141016-1        11      NaN  0.000000   GPM   \n",
        "\n",
        "    MIN_DET ANAL_METHD DATE_ANAL  TIME_ANAL ANAL_NAME DATE_REC DATE_RPT  \\\n",
        "0  0.000000        NaN       NaN        NaN       NaN      NaN      NaN   \n",
        "1  0.000000        NaN       NaN        NaN       NaN      NaN      NaN   \n",
        "2  0.000000        NaN       NaN        NaN       NaN      NaN      NaN   \n",
        "\n",
        "    DATE_SAMP  TIME_SAMP  SAMP_TYPE SAMPLR_NAM  COMMENTS  \n",
        "0  03/17/2015       1200          0         rc       NaN  \n",
        "1  12/08/2014       1200          0         RC       NaN  \n",
        "2  10/16/2014       1200          0         RC       NaN  \n"
       ]
      }
     ],
     "prompt_number": 84
    },
    {
     "cell_type": "code",
     "collapsed": false,
     "input": [
      "rall['TIME_SAMP']=rall['TIME_SAMP'].apply(lambda x:'1200' if np.isnan(x)==True else x)\n",
      "rall['TIME_SAMP']=rall['TIME_SAMP'].apply(lambda x: str(int(x)).zfill(4))\n",
      "rall['DATE_SAMP']=rall['DATE_SAMP'].apply(lambda x: str(x))"
     ],
     "language": "python",
     "metadata": {},
     "outputs": [],
     "prompt_number": 86
    },
    {
     "cell_type": "code",
     "collapsed": false,
     "input": [
      "rall['DATE_SAMP']"
     ],
     "language": "python",
     "metadata": {},
     "outputs": [
      {
       "metadata": {},
       "output_type": "pyout",
       "prompt_number": 88,
       "text": [
        "0     03/17/2015\n",
        "1     12/08/2014\n",
        "2     10/16/2014\n",
        "3     07/18/2014\n",
        "4     06/09/2014\n",
        "5     05/13/2014\n",
        "6     04/22/2014\n",
        "7     03/18/2014\n",
        "8     02/11/2014\n",
        "9     01/14/2014\n",
        "10    12/09/2013\n",
        "11    11/11/2013\n",
        "12    10/21/2013\n",
        "13    09/04/2013\n",
        "14    08/14/2013\n",
        "...\n",
        "280296    09/01/1987\n",
        "280297    08/01/1987\n",
        "280298    07/01/1987\n",
        "280299    06/01/1987\n",
        "280300    05/01/1987\n",
        "280301    04/01/1987\n",
        "280302    03/01/1987\n",
        "280303    02/01/1987\n",
        "280304    01/01/1987\n",
        "280305    09/01/1986\n",
        "280306    08/01/1986\n",
        "280307    07/01/1986\n",
        "280308    06/01/1986\n",
        "280309    05/01/1986\n",
        "280310    04/01/1986\n",
        "Name: DATE_SAMP, Length: 864050, dtype: object"
       ]
      }
     ],
     "prompt_number": 88
    },
    {
     "cell_type": "code",
     "collapsed": false,
     "input": [
      "rall['DATETIME_SAMP']=pd.to_datetime(rall['DATE_SAMP']+rall['TIME_SAMP'], format='%m/%d/%Y%H%M', coerce=True)"
     ],
     "language": "python",
     "metadata": {},
     "outputs": [],
     "prompt_number": 89
    },
    {
     "cell_type": "code",
     "collapsed": false,
     "input": [
      "rall['DATETIME_SAMP']"
     ],
     "language": "python",
     "metadata": {},
     "outputs": [
      {
       "metadata": {},
       "output_type": "pyout",
       "prompt_number": 90,
       "text": [
        "0    2015-03-17 12:00:00\n",
        "1    2014-12-08 12:00:00\n",
        "2    2014-10-16 12:00:00\n",
        "3    2014-07-18 12:00:00\n",
        "4    2014-06-09 12:00:00\n",
        "5    2014-05-13 12:00:00\n",
        "6    2014-04-22 12:00:00\n",
        "7    2014-03-18 12:00:00\n",
        "8    2014-02-11 12:00:00\n",
        "9    2014-01-14 12:00:00\n",
        "10   2013-12-09 12:00:00\n",
        "11   2013-11-11 12:00:00\n",
        "12   2013-10-21 12:00:00\n",
        "13   2013-09-04 12:00:00\n",
        "14   2013-08-14 12:00:00\n",
        "...\n",
        "280296   1987-09-01 12:00:00\n",
        "280297   1987-08-01 12:00:00\n",
        "280298   1987-07-01 12:00:00\n",
        "280299   1987-06-01 12:00:00\n",
        "280300   1987-05-01 12:00:00\n",
        "280301   1987-04-01 12:00:00\n",
        "280302   1987-03-01 12:00:00\n",
        "280303   1987-02-01 12:00:00\n",
        "280304   1987-01-01 12:00:00\n",
        "280305   1986-09-01 12:00:00\n",
        "280306   1986-08-01 12:00:00\n",
        "280307   1986-07-01 12:00:00\n",
        "280308   1986-06-01 12:00:00\n",
        "280309   1986-05-01 12:00:00\n",
        "280310   1986-04-01 12:00:00\n",
        "Name: DATETIME_SAMP, Length: 864050, dtype: datetime64[ns]"
       ]
      }
     ],
     "prompt_number": 90
    }
   ],
   "metadata": {}
  }
 ]
}