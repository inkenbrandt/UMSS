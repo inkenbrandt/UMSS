{
 "metadata": {
  "name": "",
  "signature": "sha256:0e455a1d7008ebd57fb12f8e0ac55ed5f447f3754baf984cfc1d14a820febf6c"
 },
 "nbformat": 3,
 "nbformat_minor": 0,
 "worksheets": [
  {
   "cells": [
    {
     "cell_type": "code",
     "collapsed": false,
     "input": [
      "import pandas as pd\n",
      "import numpy as np\n",
      "import matplotlib.pyplot as plt\n",
      "import matplotlib.dates as dates\n",
      "import matplotlib.ticker as tick\n",
      "from datetime import datetime\n",
      "from pylab import rcParams\n",
      "rcParams['figure.figsize'] = 15, 10\n",
      "%matplotlib inline"
     ],
     "language": "python",
     "metadata": {},
     "outputs": [],
     "prompt_number": 59
    },
    {
     "cell_type": "markdown",
     "metadata": {},
     "source": [
      "Data downloaded from the WQP on 5/28/2015. <br>\n",
      "<b>Stations:</b><br>\n",
      "http://waterqualitydata.us/Station/search?sampleMedia=Water&characteristicType=Information%3BInorganics%2C+Major%2C+Metals%3BInorganics%2C+Major%2C+Non-metals%3BNutrient&bBox=-111.68%2C38.8%2C-111.0%2C40&mimeType=csv&zip=yes <br>\n",
      "<b>Results (major ions):</b><br>\n",
      "http://waterqualitydata.us/Result/search?sampleMedia=Water&characteristicType=Information%3BInorganics%2C+Major%2C+Metals%3BInorganics%2C+Major%2C+Non-metals%3BNutrient&bBox=-111.68%2C38.8%2C-111.0%2C40&mimeType=csv&zip=yes <br>\n",
      "<b>Results (field params):</b><br>\n",
      "http://waterqualitydata.us/Result/search?sampleMedia=Water&characteristicName=Temperature%2C+water%3BpH%3BSpecific+conductance%3BTotal+dissolved+solids&bBox=-111.68%2C38.8%2C-111%2C40&mimeType=csv&zip=yes"
     ]
    },
    {
     "cell_type": "code",
     "collapsed": false,
     "input": [
      "station = \"C:\\\\PROJECTS\\\\MLSNF\\\\Data\\\\CHEM\\\\Station.csv\"\n",
      "result = \"C:\\\\PROJECTS\\\\MLSNF\\\\Data\\\\CHEM\\\\Result.csv\"\n",
      "result_field = \"C:\\\\PROJECTS\\\\MLSNF\\\\Data\\\\CHEM\\\\Result_field.csv\""
     ],
     "language": "python",
     "metadata": {},
     "outputs": [],
     "prompt_number": 168
    },
    {
     "cell_type": "code",
     "collapsed": false,
     "input": [
      "stat = pd.read_csv(station)\n",
      "res = pd.read_csv(result,low_memory=False,parse_dates=True)\n",
      "resf = pd.read_csv(result,low_memory=False,parse_dates=True)"
     ],
     "language": "python",
     "metadata": {},
     "outputs": [],
     "prompt_number": 185
    },
    {
     "cell_type": "code",
     "collapsed": false,
     "input": [
      "res = res[res.ActivityMediaSubdivisionName == 'Groundwater']\n",
      "res = res[(res.ResultValueTypeName == 'Actual')|(res.ResultValueTypeName == 'Calculated')]\n",
      "res = res[res.ix[:,'ResultMeasure/MeasureUnitCode'] != 'ueq/L']\n",
      "resf = resf[resf.ActivityMediaSubdivisionName == 'Groundwater']\n",
      "resf = resf[(resf.ResultValueTypeName == 'Actual')|(resf.ResultValueTypeName == 'Calculated')]"
     ],
     "language": "python",
     "metadata": {},
     "outputs": [],
     "prompt_number": 186
    },
    {
     "cell_type": "code",
     "collapsed": false,
     "input": [
      "def sulfix(x):\n",
      "    if x['CharacteristicName'] == 'Sulfate as S':\n",
      "        x\n",
      "        "
     ],
     "language": "python",
     "metadata": {},
     "outputs": []
    },
    {
     "cell_type": "code",
     "collapsed": false,
     "input": [
      "res.set_index(['MonitoringLocationIdentifier'],inplace=True)\n",
      "resf.set_index(['MonitoringLocationIdentifier'],inplace=True)"
     ],
     "language": "python",
     "metadata": {},
     "outputs": [],
     "prompt_number": 171
    },
    {
     "cell_type": "code",
     "collapsed": false,
     "input": [
      "resdroplist = ['ActivityMediaName','ActivityStartTime/Time','ActivityStartTime/TimeZoneCode','ActivityEndDate','ActivityEndTime/Time',\n",
      "          'ActivityEndTime/TimeZoneCode','ActivityDepthHeightMeasure/MeasureValue','ActivityDepthHeightMeasure/MeasureUnitCode',\n",
      "          'ActivityDepthAltitudeReferencePointText','ActivityTopDepthHeightMeasure/MeasureValue','ActivityTopDepthHeightMeasure/MeasureUnitCode',\n",
      "          'ActivityTopDepthHeightMeasure/MeasureUnitCode','ActivityBottomDepthHeightMeasure/MeasureValue',\n",
      "          'ActivityBottomDepthHeightMeasure/MeasureUnitCode','ActivityConductingOrganizationText','ResultWeightBasisText',\n",
      "          'ResultTimeBasisText','ResultTemperatureBasisText','ResultParticleSizeBasisText','PrecisionValue','ResultCommentText',\n",
      "          'ResultWeightBasisText','ResultTimeBasisText','ResultTemperatureBasisText','ResultParticleSizeBasisText','PrecisionValue',\n",
      "          'ResultCommentText','HydrologicCondition','HydrologicEvent','SampleCollectionMethod/MethodIdentifier',\n",
      "          'SampleCollectionMethod/MethodIdentifierContext','SampleCollectionMethod/MethodName','SampleCollectionEquipmentName',\n",
      "          'ResultDepthHeightMeasure/MeasureValue','ResultDepthHeightMeasure/MeasureUnitCode','ResultDepthAltitudeReferencePointText',\n",
      "          'SubjectTaxonomicName','SampleTissueAnatomyName','ResultAnalyticalMethod/MethodIdentifier','ResultAnalyticalMethod/MethodIdentifierContext',\n",
      "          'ResultAnalyticalMethod/MethodName','MethodDescriptionText','LaboratoryName','AnalysisStartDate','PreparationStartDate',\n",
      "          'OrganizationFormalName','ActivityMediaSubdivisionName','ProjectIdentifier','ActivityConductingOrganizationText',\n",
      "          'DetectionQuantitationLimitTypeName','ResultLaboratoryCommentText','ResultValueTypeName','ActivityTypeCode','StatisticalBaseCode',\n",
      "          'ResultStatusIdentifier']\n",
      "res.drop(resdroplist,inplace=True,axis=1)\n",
      "resf.drop(resdroplist,inplace=True,axis=1)"
     ],
     "language": "python",
     "metadata": {},
     "outputs": [],
     "prompt_number": 172
    },
    {
     "cell_type": "code",
     "collapsed": false,
     "input": [
      "resall = res.append(resf)"
     ],
     "language": "python",
     "metadata": {},
     "outputs": [],
     "prompt_number": 173
    },
    {
     "cell_type": "code",
     "collapsed": false,
     "input": [
      "statdrp = ['OrganizationIdentifier','OrganizationFormalName','MonitoringLocationDescriptionText','HUCEightDigitCode','DrainageAreaMeasure/MeasureValue',\n",
      "           'DrainageAreaMeasure/MeasureUnitCode','ContributingDrainageAreaMeasure/MeasureValue','ContributingDrainageAreaMeasure/MeasureUnitCode',\n",
      "           'SourceMapScaleNumeric','HorizontalAccuracyMeasure/MeasureValue','HorizontalAccuracyMeasure/MeasureUnitCode',\n",
      "           'HorizontalCollectionMethodName','HorizontalCoordinateReferenceSystemDatumName','VerticalMeasure/MeasureValue',\n",
      "           'VerticalMeasure/MeasureUnitCode','VerticalAccuracyMeasure/MeasureValue','VerticalAccuracyMeasure/MeasureUnitCode',\n",
      "           'VerticalCollectionMethodName','VerticalCoordinateReferenceSystemDatumName','CountryCode','StateCode','CountyCode']\n",
      "stat.drop(statdrp,inplace=True,axis=1)"
     ],
     "language": "python",
     "metadata": {},
     "outputs": [],
     "prompt_number": 174
    },
    {
     "cell_type": "code",
     "collapsed": false,
     "input": [
      "stat.set_index(['MonitoringLocationIdentifier'],inplace=True)"
     ],
     "language": "python",
     "metadata": {},
     "outputs": [],
     "prompt_number": 175
    },
    {
     "cell_type": "code",
     "collapsed": false,
     "input": [
      "stat = stat[(stat.MonitoringLocationTypeName!='Stream')&(stat.MonitoringLocationTypeName!='Lake')&\n",
      "            (stat.MonitoringLocationTypeName!='River/Stream')&(stat.MonitoringLocationTypeName!='Facility Other')&\n",
      "            (stat.MonitoringLocationTypeName!='Lake, Reservoir, Impoundment')]"
     ],
     "language": "python",
     "metadata": {},
     "outputs": [],
     "prompt_number": 176
    },
    {
     "cell_type": "code",
     "collapsed": false,
     "input": [
      "data = pd.merge(resall,stat,left_index=True,right_index=True,how='left')"
     ],
     "language": "python",
     "metadata": {},
     "outputs": [],
     "prompt_number": 177
    },
    {
     "cell_type": "code",
     "collapsed": false,
     "input": [
      "data = data.drop_duplicates(['ActivityIdentifier','CharacteristicName'])"
     ],
     "language": "python",
     "metadata": {},
     "outputs": [],
     "prompt_number": 178
    },
    {
     "cell_type": "code",
     "collapsed": false,
     "input": [
      "datapiv = data.pivot(index='ActivityIdentifier', columns='CharacteristicName', values='ResultMeasureValue')\n",
      "#datapiv1 = data.pivot(index='ActivityIdentifier', columns='CharacteristicName', values='ResultMeasure/MeasureUnitCode')\n",
      "#datapiv = pd.merge(datapiv,datapiv1,left_index=True,right_index=True,how=\"outer\")"
     ],
     "language": "python",
     "metadata": {},
     "outputs": [],
     "prompt_number": 179
    },
    {
     "cell_type": "code",
     "collapsed": false,
     "input": [
      "list(datapiv.columns)"
     ],
     "language": "python",
     "metadata": {},
     "outputs": [
      {
       "metadata": {},
       "output_type": "pyout",
       "prompt_number": 180,
       "text": [
        "['Acidity',\n",
        " 'Alkalinity',\n",
        " 'Ammonia and ammonium',\n",
        " 'Ammonia-nitrogen as N',\n",
        " 'Ammonium',\n",
        " 'Bicarbonate',\n",
        " 'Bromide',\n",
        " 'Calcium',\n",
        " 'Carbon',\n",
        " 'Carbon dioxide',\n",
        " 'Carbonate (CO3)',\n",
        " 'Chloride',\n",
        " 'Chlorine',\n",
        " 'Depth',\n",
        " 'Depth, Secchi disk depth',\n",
        " 'Depth, data-logger (ported)',\n",
        " 'Fluoride',\n",
        " 'Hydrogen',\n",
        " 'Hydrogen ion',\n",
        " 'Hydrogen sulfide',\n",
        " 'Hydroxide',\n",
        " 'Inorganic carbon',\n",
        " 'Inorganic nitrogen (nitrate and nitrite)',\n",
        " 'Inorganic nitrogen (nitrate and nitrite) as N',\n",
        " 'Kjeldahl nitrogen',\n",
        " 'Magnesium',\n",
        " 'Nitrate',\n",
        " 'Nitrate as N',\n",
        " 'Nitrate as NO3',\n",
        " 'Nitrite',\n",
        " 'Nitrite as NO2',\n",
        " 'Nitrogen',\n",
        " 'Nitrogen, mixed forms (NH3), (NH4), organic, (NO2) and (NO3)',\n",
        " 'Organic Nitrogen',\n",
        " 'Organic nitrogen',\n",
        " 'Orthophosphate as P',\n",
        " 'Oxygen',\n",
        " 'Phosphate',\n",
        " 'Phosphate-phosphorus',\n",
        " 'Phosphate-phosphorus as P',\n",
        " 'Phosphorus',\n",
        " 'Potassium',\n",
        " 'Silica',\n",
        " 'Sodium',\n",
        " 'Sodium adsorption ratio',\n",
        " 'Sodium plus potassium',\n",
        " 'Sodium, percent total cations',\n",
        " 'Sulfate',\n",
        " 'Sulfate as S',\n",
        " 'Sulfate as SO4',\n",
        " 'Sulfide']"
       ]
      }
     ],
     "prompt_number": 180
    },
    {
     "cell_type": "code",
     "collapsed": false,
     "input": [
      "droplist = \n",
      "['Alkalinity','Bicarbonate','Calcium', 'Carbonate (CO3)', 'Chloride', 'Potassium', 'Silica', 'Sodium', \n",
      " 'Sulfate', 'Sulfate as S', 'Sulfate as SO4']\n",
      "#droplist1 = [i+'_y' for i in droplist]\n",
      "#droplist2 = [i+'_x' for i in droplist]\n",
      "#droplist3 = droplist1 + droplist2 #+ droplist  \n",
      "datapiv.drop(droplist,inplace=True,axis=1)"
     ],
     "language": "python",
     "metadata": {},
     "outputs": [],
     "prompt_number": 150
    },
    {
     "cell_type": "code",
     "collapsed": false,
     "input": [
      "datapiv.dropna(how='all',inplace=True)\n",
      "datapiv.sort(axis=1)\n",
      "datapiv = datapiv[datapiv.Alkalinity < 6000]\n",
      "plt.figure()\n",
      "plt.scatter(datapiv.Alkalinity,datapiv.Bicarbonate)\n",
      "piv = datapiv.ix[:,['Alkalinity','Bicarbonate']]\n",
      "piv.dropna(inplace=True)\n",
      "from scipy.stats import linregress\n",
      "lin = linregress(piv.Alkalinity.values,piv.Bicarbonate.values)\n",
      "print lin\n",
      "datapiv.Bicarbonate = datapiv.apply(lambda x: x['Alkalinity']*lin[0]+lin[1] if np.isnan(x['Bicarbonate']) else x['Bicarbonate'],1)"
     ],
     "language": "python",
     "metadata": {},
     "outputs": [
      {
       "output_type": "stream",
       "stream": "stdout",
       "text": [
        "(1.1702954311870053, 7.3593940166138054, 0.98257153986236767, 8.8636820795774864e-182, 0.01411587220207843)\n"
       ]
      },
      {
       "metadata": {},
       "output_type": "display_data",
       "png": "[encoded data removed]",
       "text": [
        "<matplotlib.figure.Figure at 0x14ee3310>"
       ]
      }
     ],
     "prompt_number": 166
    },
    {
     "cell_type": "code",
     "collapsed": false,
     "input": [
      "datapiv.drop('Alkalinity',inplace=True,axis=1)"
     ],
     "language": "python",
     "metadata": {},
     "outputs": [],
     "prompt_number": 167
    },
    {
     "cell_type": "code",
     "collapsed": false,
     "input": [
      "list(datapiv.columns)"
     ],
     "language": "python",
     "metadata": {},
     "outputs": [
      {
       "metadata": {},
       "output_type": "pyout",
       "prompt_number": 181,
       "text": [
        "['Acidity',\n",
        " 'Alkalinity',\n",
        " 'Ammonia and ammonium',\n",
        " 'Ammonia-nitrogen as N',\n",
        " 'Ammonium',\n",
        " 'Bicarbonate',\n",
        " 'Bromide',\n",
        " 'Calcium',\n",
        " 'Carbon',\n",
        " 'Carbon dioxide',\n",
        " 'Carbonate (CO3)',\n",
        " 'Chloride',\n",
        " 'Chlorine',\n",
        " 'Depth',\n",
        " 'Depth, Secchi disk depth',\n",
        " 'Depth, data-logger (ported)',\n",
        " 'Fluoride',\n",
        " 'Hydrogen',\n",
        " 'Hydrogen ion',\n",
        " 'Hydrogen sulfide',\n",
        " 'Hydroxide',\n",
        " 'Inorganic carbon',\n",
        " 'Inorganic nitrogen (nitrate and nitrite)',\n",
        " 'Inorganic nitrogen (nitrate and nitrite) as N',\n",
        " 'Kjeldahl nitrogen',\n",
        " 'Magnesium',\n",
        " 'Nitrate',\n",
        " 'Nitrate as N',\n",
        " 'Nitrate as NO3',\n",
        " 'Nitrite',\n",
        " 'Nitrite as NO2',\n",
        " 'Nitrogen',\n",
        " 'Nitrogen, mixed forms (NH3), (NH4), organic, (NO2) and (NO3)',\n",
        " 'Organic Nitrogen',\n",
        " 'Organic nitrogen',\n",
        " 'Orthophosphate as P',\n",
        " 'Oxygen',\n",
        " 'Phosphate',\n",
        " 'Phosphate-phosphorus',\n",
        " 'Phosphate-phosphorus as P',\n",
        " 'Phosphorus',\n",
        " 'Potassium',\n",
        " 'Silica',\n",
        " 'Sodium',\n",
        " 'Sodium adsorption ratio',\n",
        " 'Sodium plus potassium',\n",
        " 'Sodium, percent total cations',\n",
        " 'Sulfate',\n",
        " 'Sulfate as S',\n",
        " 'Sulfate as SO4',\n",
        " 'Sulfide']"
       ]
      }
     ],
     "prompt_number": 181
    },
    {
     "cell_type": "code",
     "collapsed": false,
     "input": [
      "data.to_csv(\"C:\\\\PROJECTS\\\\MLSNF\\\\Data\\\\CHEM\\\\chem_data_out.csv\")"
     ],
     "language": "python",
     "metadata": {},
     "outputs": [],
     "prompt_number": 96
    }
   ],
   "metadata": {}
  }
 ]
}