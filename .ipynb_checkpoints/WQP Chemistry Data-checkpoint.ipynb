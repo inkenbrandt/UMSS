{
 "metadata": {
  "name": "",
  "signature": "sha256:9c7877bf13013561112216f3f146a7b135910093299a6bf63a4c5ffad1f5ba09"
 },
 "nbformat": 3,
 "nbformat_minor": 0,
 "worksheets": [
  {
   "cells": [
    {
     "cell_type": "code",
     "collapsed": false,
     "input": [
      "import pandas as pd\n",
      "import numpy as np\n",
      "import matplotlib.pyplot as plt\n",
      "import matplotlib.dates as dates\n",
      "import matplotlib.ticker as tick\n",
      "from datetime import datetime\n",
      "from pylab import rcParams\n",
      "rcParams['figure.figsize'] = 15, 10\n",
      "%matplotlib inline"
     ],
     "language": "python",
     "metadata": {},
     "outputs": [],
     "prompt_number": 75
    },
    {
     "cell_type": "markdown",
     "metadata": {},
     "source": [
      "Data downloaded from the WQP on 5/28/2015. <br>\n",
      "<b>Stations:</b><br>\n",
      "http://waterqualitydata.us/Station/search?sampleMedia=Water&characteristicType=Information%3BInorganics%2C+Major%2C+Metals%3BInorganics%2C+Major%2C+Non-metals%3BNutrient&bBox=-111.68%2C38.8%2C-111.0%2C40&mimeType=csv&zip=yes <br>\n",
      "<b>Results (major ions):</b><br>\n",
      "http://waterqualitydata.us/Result/search?sampleMedia=Water&characteristicType=Information%3BInorganics%2C+Major%2C+Metals%3BInorganics%2C+Major%2C+Non-metals%3BNutrient&bBox=-111.68%2C38.8%2C-111.0%2C40&mimeType=csv&zip=yes <br>\n",
      "<b>Results (field params):</b><br>\n",
      "http://waterqualitydata.us/Result/search?sampleMedia=Water&characteristicName=Temperature%2C+water%3BpH%3BSpecific+conductance%3BTotal+dissolved+solids&bBox=-111.68%2C38.8%2C-111%2C40&mimeType=csv&zip=yes"
     ]
    },
    {
     "cell_type": "code",
     "collapsed": false,
     "input": [
      "station = \"D:\\\\PROJECTS\\\\MLSNF\\\\Data\\\\CHEM\\\\Station.csv\"\n",
      "result = \"D:\\\\PROJECTS\\\\MLSNF\\\\Data\\\\CHEM\\\\Result.csv\"\n",
      "result_field = \"D:\\\\PROJECTS\\\\MLSNF\\\\Data\\\\CHEM\\\\Result_field.csv\""
     ],
     "language": "python",
     "metadata": {},
     "outputs": [],
     "prompt_number": 76
    },
    {
     "cell_type": "code",
     "collapsed": false,
     "input": [
      "stat = pd.read_csv(station)\n",
      "res = pd.read_csv(result,low_memory=False,parse_dates=True)\n",
      "resf = pd.read_csv(result_field,low_memory=False,parse_dates=True)"
     ],
     "language": "python",
     "metadata": {},
     "outputs": [],
     "prompt_number": 77
    },
    {
     "cell_type": "code",
     "collapsed": false,
     "input": [
      "res = res[res.ActivityMediaSubdivisionName == 'Groundwater']\n",
      "res = res[(res.ResultValueTypeName == 'Actual')|(res.ResultValueTypeName == 'Calculated')]\n",
      "res = res[res.ix[:,'ResultMeasure/MeasureUnitCode'] != 'ueq/L']\n",
      "resf = resf[resf.ActivityMediaSubdivisionName == 'Groundwater']\n",
      "resf = resf[(resf.ResultValueTypeName == 'Actual')|(resf.ResultValueTypeName == 'Calculated')]"
     ],
     "language": "python",
     "metadata": {},
     "outputs": [],
     "prompt_number": 78
    },
    {
     "cell_type": "code",
     "collapsed": false,
     "input": [
      "def sulfix(x):\n",
      "    if x['CharacteristicName'] == 'Sulfate as S':\n",
      "        x\n",
      "        "
     ],
     "language": "python",
     "metadata": {},
     "outputs": [],
     "prompt_number": 79
    },
    {
     "cell_type": "code",
     "collapsed": false,
     "input": [
      "res.set_index(['MonitoringLocationIdentifier'],inplace=True)\n",
      "resf.set_index(['MonitoringLocationIdentifier'],inplace=True)"
     ],
     "language": "python",
     "metadata": {},
     "outputs": [],
     "prompt_number": 80
    },
    {
     "cell_type": "code",
     "collapsed": false,
     "input": [
      "resdroplist = ['ActivityMediaName','ActivityStartTime/Time','ActivityStartTime/TimeZoneCode','ActivityEndDate','ActivityEndTime/Time',\n",
      "          'ActivityEndTime/TimeZoneCode','ActivityDepthHeightMeasure/MeasureValue','ActivityDepthHeightMeasure/MeasureUnitCode',\n",
      "          'ActivityDepthAltitudeReferencePointText','ActivityTopDepthHeightMeasure/MeasureValue','ActivityTopDepthHeightMeasure/MeasureUnitCode',\n",
      "          'ActivityTopDepthHeightMeasure/MeasureUnitCode','ActivityBottomDepthHeightMeasure/MeasureValue',\n",
      "          'ActivityBottomDepthHeightMeasure/MeasureUnitCode','ActivityConductingOrganizationText','ResultWeightBasisText',\n",
      "          'ResultTimeBasisText','ResultTemperatureBasisText','ResultParticleSizeBasisText','PrecisionValue','ResultCommentText',\n",
      "          'ResultWeightBasisText','ResultTimeBasisText','ResultTemperatureBasisText','ResultParticleSizeBasisText','PrecisionValue',\n",
      "          'ResultCommentText','HydrologicCondition','HydrologicEvent','SampleCollectionMethod/MethodIdentifier',\n",
      "          'SampleCollectionMethod/MethodIdentifierContext','SampleCollectionMethod/MethodName','SampleCollectionEquipmentName',\n",
      "          'ResultDepthHeightMeasure/MeasureValue','ResultDepthHeightMeasure/MeasureUnitCode','ResultDepthAltitudeReferencePointText',\n",
      "          'SubjectTaxonomicName','SampleTissueAnatomyName','ResultAnalyticalMethod/MethodIdentifier','ResultAnalyticalMethod/MethodIdentifierContext',\n",
      "          'ResultAnalyticalMethod/MethodName','MethodDescriptionText','LaboratoryName','AnalysisStartDate','PreparationStartDate',\n",
      "          'OrganizationFormalName','ActivityMediaSubdivisionName','ProjectIdentifier','ActivityConductingOrganizationText',\n",
      "          'DetectionQuantitationLimitTypeName','ResultLaboratoryCommentText','ResultValueTypeName','ActivityTypeCode','StatisticalBaseCode',\n",
      "          'ResultStatusIdentifier']\n",
      "res.drop(resdroplist,inplace=True,axis=1)\n",
      "resf.drop(resdroplist,inplace=True,axis=1)"
     ],
     "language": "python",
     "metadata": {},
     "outputs": [],
     "prompt_number": 81
    },
    {
     "cell_type": "code",
     "collapsed": false,
     "input": [
      "resall = res.append(resf)"
     ],
     "language": "python",
     "metadata": {},
     "outputs": [],
     "prompt_number": 82
    },
    {
     "cell_type": "code",
     "collapsed": false,
     "input": [
      "statdrp = ['OrganizationIdentifier','OrganizationFormalName','MonitoringLocationDescriptionText','HUCEightDigitCode','DrainageAreaMeasure/MeasureValue',\n",
      "           'DrainageAreaMeasure/MeasureUnitCode','ContributingDrainageAreaMeasure/MeasureValue','ContributingDrainageAreaMeasure/MeasureUnitCode',\n",
      "           'SourceMapScaleNumeric','HorizontalAccuracyMeasure/MeasureValue','HorizontalAccuracyMeasure/MeasureUnitCode',\n",
      "           'HorizontalCollectionMethodName','HorizontalCoordinateReferenceSystemDatumName','VerticalMeasure/MeasureValue',\n",
      "           'VerticalMeasure/MeasureUnitCode','VerticalAccuracyMeasure/MeasureValue','VerticalAccuracyMeasure/MeasureUnitCode',\n",
      "           'VerticalCollectionMethodName','VerticalCoordinateReferenceSystemDatumName','CountryCode','StateCode','CountyCode']\n",
      "stat.drop(statdrp,inplace=True,axis=1)"
     ],
     "language": "python",
     "metadata": {},
     "outputs": [],
     "prompt_number": 83
    },
    {
     "cell_type": "code",
     "collapsed": false,
     "input": [
      "stat.set_index(['MonitoringLocationIdentifier'],inplace=True)"
     ],
     "language": "python",
     "metadata": {},
     "outputs": [],
     "prompt_number": 84
    },
    {
     "cell_type": "code",
     "collapsed": false,
     "input": [
      "stat = stat[(stat.MonitoringLocationTypeName!='Stream')&(stat.MonitoringLocationTypeName!='Lake')&\n",
      "            (stat.MonitoringLocationTypeName!='River/Stream')&(stat.MonitoringLocationTypeName!='Facility Other')&\n",
      "            (stat.MonitoringLocationTypeName!='Lake, Reservoir, Impoundment')]"
     ],
     "language": "python",
     "metadata": {},
     "outputs": [],
     "prompt_number": 85
    },
    {
     "cell_type": "code",
     "collapsed": false,
     "input": [
      "data = resall.drop_duplicates(['ActivityIdentifier','CharacteristicName'])"
     ],
     "language": "python",
     "metadata": {},
     "outputs": [],
     "prompt_number": 86
    },
    {
     "cell_type": "code",
     "collapsed": false,
     "input": [
      "datapiv = data.pivot(index='ActivityIdentifier', \n",
      "                     columns='CharacteristicName', values='ResultMeasureValue')"
     ],
     "language": "python",
     "metadata": {},
     "outputs": [],
     "prompt_number": 87
    },
    {
     "cell_type": "code",
     "collapsed": false,
     "input": [
      "alllist = list(datapiv.columns)"
     ],
     "language": "python",
     "metadata": {},
     "outputs": [],
     "prompt_number": 88
    },
    {
     "cell_type": "code",
     "collapsed": false,
     "input": [
      "keeplist = ['Alkalinity','Bicarbonate','Calcium', 'Carbonate (CO3)', 'Chloride', 'Potassium', 'Silica', 'Sodium', \n",
      " 'Sulfate', 'Sulfate as S', 'Sulfate as SO4', 'pH','Total dissolved solids',\n",
      " 'Specific conductance', 'Temperature, water']\n",
      "droplist = set(alllist) - set(keeplist) \n",
      "  \n",
      "datapiv.drop(droplist,inplace=True,axis=1)"
     ],
     "language": "python",
     "metadata": {},
     "outputs": [],
     "prompt_number": 89
    },
    {
     "cell_type": "code",
     "collapsed": false,
     "input": [
      "datapiv.dropna(how='all',inplace=True)\n",
      "datapiv.sort(axis=1)\n",
      "datapiv = datapiv[datapiv.Alkalinity < 6000]\n",
      "plt.figure()\n",
      "plt.scatter(datapiv.Alkalinity,datapiv.Bicarbonate)\n",
      "piv = datapiv.ix[:,['Alkalinity','Bicarbonate']]\n",
      "piv.dropna(inplace=True)\n",
      "from scipy.stats import linregress\n",
      "lin = linregress(piv.Alkalinity.values,piv.Bicarbonate.values)\n",
      "print lin\n",
      "datapiv.Bicarbonate = datapiv.apply(lambda x: x['Alkalinity']*lin[0]+lin[1] if np.isnan(x['Bicarbonate']) else x['Bicarbonate'],1)"
     ],
     "language": "python",
     "metadata": {},
     "outputs": [
      {
       "output_type": "stream",
       "stream": "stdout",
       "text": [
        "(1.1704406119578463, 6.9771577080264251, 0.98028480546611552, 4.6868557635322886e-63, 0.025293087479801944)\n"
       ]
      },
      {
       "metadata": {},
       "output_type": "display_data",
       "png": "[encoded data removed]",
       "text": [
        "<matplotlib.figure.Figure at 0xf3cf4f0>"
       ]
      }
     ],
     "prompt_number": 90
    },
    {
     "cell_type": "code",
     "collapsed": false,
     "input": [
      "datapiv.drop('Alkalinity',inplace=True,axis=1)"
     ],
     "language": "python",
     "metadata": {},
     "outputs": [],
     "prompt_number": 91
    },
    {
     "cell_type": "code",
     "collapsed": false,
     "input": [
      "resall.reset_index(inplace=True)\n",
      "alist =list(resall.columns) \n",
      "kplist = ['ActivityStartDate','ActivityIdentifier','SampleAquifer',\n",
      "          'MonitoringLocationIdentifier']\n",
      "drplist = set(alist) - set(kplist) \n",
      "  \n",
      "resall.drop(drplist,inplace=True,axis=1)"
     ],
     "language": "python",
     "metadata": {},
     "outputs": [],
     "prompt_number": 92
    },
    {
     "cell_type": "code",
     "collapsed": false,
     "input": [
      "dfpiv = pd.merge(datapiv,resall,left_index=True,\n",
      "                 right_on='ActivityIdentifier',how='left')"
     ],
     "language": "python",
     "metadata": {},
     "outputs": [],
     "prompt_number": 93
    },
    {
     "cell_type": "code",
     "collapsed": false,
     "input": [
      "df = pd.merge(dfpiv,stat,left_on='MonitoringLocationIdentifier',\n",
      "              right_index=True, how='left')"
     ],
     "language": "python",
     "metadata": {},
     "outputs": [],
     "prompt_number": 94
    },
    {
     "cell_type": "code",
     "collapsed": false,
     "input": [
      "df.drop_duplicates(inplace=True)"
     ],
     "language": "python",
     "metadata": {},
     "outputs": [],
     "prompt_number": 97
    },
    {
     "cell_type": "code",
     "collapsed": false,
     "input": [
      "df.to_csv(\"D:\\\\PROJECTS\\\\MLSNF\\\\Data\\\\CHEM\\\\chem_data_out.csv\")"
     ],
     "language": "python",
     "metadata": {},
     "outputs": [],
     "prompt_number": 98
    },
    {
     "cell_type": "code",
     "collapsed": false,
     "input": [],
     "language": "python",
     "metadata": {},
     "outputs": []
    }
   ],
   "metadata": {}
  }
 ]
}