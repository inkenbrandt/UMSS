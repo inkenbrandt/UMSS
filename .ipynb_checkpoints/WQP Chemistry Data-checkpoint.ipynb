{
 "cells": [
  {
   "cell_type": "code",
   "execution_count": null,
   "metadata": {
    "collapsed": false
   },
   "outputs": [],
   "source": [
    "import pandas as pd\n",
    "import numpy as np\n",
    "import matplotlib.pyplot as plt\n",
    "import matplotlib.dates as dates\n",
    "import matplotlib.ticker as tick\n",
    "from datetime import datetime\n",
    "from pylab import rcParams\n",
    "from scipy.stats import linregress\n",
    "%matplotlib inline\n",
    "rcParams['figure.figsize'] = 15, 10"
   ]
  },
  {
   "cell_type": "markdown",
   "metadata": {},
   "source": [
    "## DOGM Data"
   ]
  },
  {
   "cell_type": "markdown",
   "metadata": {},
   "source": [
    "Utah Division of Oil Gas and Mining (DOGM) data derived from the <a href=http://linux1.ogm.utah.gov/WebStuff/wwwroot/wqdb.html>DOGM website</a>. Station information obtained from digitization of PDF maps provided by mining companies to DOGM. "
   ]
  },
  {
   "cell_type": "code",
   "execution_count": null,
   "metadata": {
    "collapsed": true
   },
   "outputs": [],
   "source": [
    "DOGM = \"E:/PROJECTS/MLSNF/Data/CHEM/DOGM_w_Station.csv\"\n",
    "# DOGM = \"/media/p/5F5B-8FCB/PROJECTS/MLSNF/Data/CHEM/DOGM_w_Station.csv\""
   ]
  },
  {
   "cell_type": "markdown",
   "metadata": {},
   "source": [
    "Import and Prepare DOGM Results Data"
   ]
  },
  {
   "cell_type": "code",
   "execution_count": null,
   "metadata": {
    "collapsed": false
   },
   "outputs": [],
   "source": [
    "dogms = pd.read_csv(DOGM,low_memory=False)\n",
    "# Drop uneeded fields\n",
    "dogmsdroplist = ['SITE_ID','SAMPLE_TYPE','OBJECTID', 'MINE_ID', 'SAMPLE_TIME','AnalysisDate', 'AnalytMeth',\n",
    "                 'ID', 'MINE_ID_1', 'SITE_ID_1','UTM_Y', 'UTM_X', 'matchid', 'DESCRIPT','Lat_Y', 'Lon_X',\n",
    "                 'SampComment','Elev','ElevUnit','OrgName','StationId_1','StationName','StationId','SampleTime']\n",
    "dogms.drop(dogmsdroplist,inplace=True,axis=1) \n",
    "\n",
    "dogms = dogms[dogms.StationType != 'SW'] # Filter out surface water\n",
    "\n",
    "# Filter results to give only basic parameters\n",
    "dogkeep = [u'pH (fld)', u'Sp. Conductivity (fld)', u'Dissolved Calcium', u'Dissolved Magnesium', u'Dissolved Potassium', \n",
    "           u'Dissolved Sodium', u'Bicarbonate as HCO3', u'Carbonate as CO3', u'Chloride', u'Sulfate', u'Total Alkalinity as CaCO3',\n",
    "           u'Total Hardness as CaCO3', u'Specific Conductivity (Lab)', u'Total Dissolved Solids @ 180 C', u'Field Water Temperature',\n",
    "           u'pH (lab)', u'Nitrate as N', u'Nitrite as N', u'Bicarbonate as CaCO3', u'Carbonate as CaCO3', u'Total Calcium', \n",
    "           u'Total Magnesium', u'Total Potassium', u'Total Sodium', u'NO2+NO3 as N', u'Dissolved Nitrate: NO3', u'Dissolved Nitrite: NO2']\n",
    "dogms = dogms[dogms['Param'].isin(dogkeep)]\n",
    "\n",
    "# Normalize Parameter Names\n",
    "parmatch = {'Total Alkalinity as CaCO3':'Alkalinity','Bicarbonate as HCO3':'Bicarbonate','Dissolved Calcium':'Calcium', 'Total Calcium':'Calcium',\n",
    " 'Carbonate as CO3':'Carbonate (CO3)', 'Chloride':'Chloride', 'Total Potassium':'Potassium', 'Silica':'Silica', \n",
    " 'Dissolved Sodium':'Sodium', 'Dissolved Magnesium':'Magnesium', 'Sulfate':'Sulfate', \n",
    " 'pH (fld)':'pH', 'Total Dissolved Solids @ 180 C':'Total dissolved solids','Field Water Temperature':'Temperature, water',\n",
    " 'Sp. Conductivity (fld)':'Specific conductance','Specific Conductivity (Lab)':'Specific conductance'}\n",
    "\n",
    "dogms['CharacteristicName'] = dogms.apply(lambda x: parmatch.get(x['Param']),1)\n",
    "dogms.drop('Param',inplace=True,axis=1)"
   ]
  },
  {
   "cell_type": "code",
   "execution_count": null,
   "metadata": {
    "collapsed": false
   },
   "outputs": [],
   "source": [
    "cols = ['ActivityIdentifier','ActivityStartDate','DetectionQuantitationLimitMeasure/MeasureUnitCode',\n",
    " 'ResultMeasureValue', 'DetectionQuantitationLimitMeasure/MeasureValue', 'ResultMeasure/MeasureUnitCode',\n",
    " 'ResultDetectionConditionText', 'OrganizationIdentifier','StationType',\n",
    " 'StationComment','MonitoringLocationIdentifier','CharacteristicName']\n",
    "dogms.columns = cols\n",
    "dogms.dropna(how='any',subset=['MonitoringLocationIdentifier'],inplace=True)"
   ]
  },
  {
   "cell_type": "markdown",
   "metadata": {
    "collapsed": true
   },
   "source": [
    "Import and Prepare DOGM Station Data"
   ]
  },
  {
   "cell_type": "code",
   "execution_count": null,
   "metadata": {
    "collapsed": false
   },
   "outputs": [],
   "source": [
    "dogmst = pd.read_csv(DOGM)\n",
    "dogmst = dogmst[dogmst.StationType != 'SW']\n",
    "dogmstdroplist = ['OBJECTID', 'MINE_ID', 'SITE_ID', 'SAMPLE_TIME', 'SAMPLE_TYPE',\n",
    " 'StationId', 'Param', 'SampleId', 'SampleDate', 'AnalysisDate', 'AnalytMeth', 'MDLUnit', 'ResultValue',\n",
    " 'SampleTime', 'MDL', 'Unit', 'DetectCond', 'SampComment', 'ID', 'MINE_ID_1', 'SITE_ID_1',\n",
    " 'UTM_Y', 'UTM_X', 'matchid', 'DESCRIPT', 'OrgId', 'OrgName', 'StationId_1',\n",
    " 'Elev', 'ElevUnit', 'StationComment']\n",
    "dogmst.drop(dogmstdroplist,inplace=True,axis=1)\n",
    "colst = ['MonitoringLocationName','MonitoringLocationTypeName','LatitudeMeasure', 'LongitudeMeasure','MonitoringLocationIdentifier']\n",
    "dogmst.columns = colst\n",
    "dogmst.dropna(how='any',subset=['MonitoringLocationIdentifier'],inplace=True)\n",
    "dogmst.set_index(['MonitoringLocationIdentifier'],inplace=True)"
   ]
  },
  {
   "cell_type": "markdown",
   "metadata": {},
   "source": [
    "##WQP Data"
   ]
  },
  {
   "cell_type": "markdown",
   "metadata": {},
   "source": [
    "Data downloaded from the <a href=http://waterqualitydata.us/portal/>Water Quality Portal (WQP)</a> on 5/28/2015. <br>\n",
    "<b>Stations:</b><br>\n",
    "http://waterqualitydata.us/Station/search?sampleMedia=Water&characteristicType=Information%3BInorganics%2C+Major%2C+Metals%3BInorganics%2C+Major%2C+Non-metals%3BNutrient&bBox=-111.68%2C38.8%2C-111.0%2C40&mimeType=csv&zip=yes <br>\n",
    "<b>Results (major ions):</b><br>\n",
    "http://waterqualitydata.us/Result/search?sampleMedia=Water&characteristicType=Information%3BInorganics%2C+Major%2C+Metals%3BInorganics%2C+Major%2C+Non-metals%3BNutrient&bBox=-111.68%2C38.8%2C-111.0%2C40&mimeType=csv&zip=yes <br>\n",
    "<b>Results (field params):</b><br>\n",
    "http://waterqualitydata.us/Result/search?sampleMedia=Water&characteristicName=Temperature%2C+water%3BpH%3BSpecific+conductance%3BTotal+dissolved+solids&bBox=-111.68%2C38.8%2C-111%2C40&mimeType=csv&zip=yes"
   ]
  },
  {
   "cell_type": "markdown",
   "metadata": {
    "collapsed": false
   },
   "source": [
    "To access thumb drive via Ubuntu use:<br>\n",
    "```Python\n",
    "station = \"/media/p/5F5B-8FCB/PROJECTS/MLSNF/Data/CHEM/Station.csv\"\n",
    "result = \"/media/p/5F5B-8FCB/PROJECTS/MLSNF/Data/CHEM/Result.csv\"\n",
    "result_field = \"/media/p/5F5B-8FCB/PROJECTS/MLSNF/Data/CHEM/Result_field.csv\"```"
   ]
  },
  {
   "cell_type": "code",
   "execution_count": null,
   "metadata": {
    "collapsed": false
   },
   "outputs": [],
   "source": [
    "station = \"E:/PROJECTS/MLSNF/Data/CHEM/Station.csv\"\n",
    "result = \"E:/PROJECTS/MLSNF/Data/CHEM/Result.csv\"\n",
    "result_field = \"E:/PROJECTS/MLSNF/Data/CHEM/Result_field.csv\""
   ]
  },
  {
   "cell_type": "markdown",
   "metadata": {},
   "source": [
    "Import data:"
   ]
  },
  {
   "cell_type": "code",
   "execution_count": null,
   "metadata": {
    "collapsed": false
   },
   "outputs": [],
   "source": [
    "stat = pd.read_csv(station)\n",
    "res = pd.read_csv(result,low_memory=False,parse_dates=True)\n",
    "resf = pd.read_csv(result_field,low_memory=False,parse_dates=True)"
   ]
  },
  {
   "cell_type": "markdown",
   "metadata": {},
   "source": [
    "Filter data:"
   ]
  },
  {
   "cell_type": "code",
   "execution_count": null,
   "metadata": {
    "collapsed": false
   },
   "outputs": [],
   "source": [
    "res = res[res.ActivityMediaSubdivisionName != 'Surface Water']\n",
    "res = res[(res.ResultValueTypeName == 'Actual')|(res.ResultValueTypeName == 'Calculated')]\n",
    "res = res[res.ix[:,'ResultMeasure/MeasureUnitCode'] != 'ueq/L']\n",
    "resf = resf[resf.ActivityMediaSubdivisionName != 'Surface Water']\n",
    "resf = resf[(resf.ResultValueTypeName == 'Actual')|(resf.ResultValueTypeName == 'Calculated')]"
   ]
  },
  {
   "cell_type": "markdown",
   "metadata": {},
   "source": [
    "##Combine Data"
   ]
  },
  {
   "cell_type": "markdown",
   "metadata": {},
   "source": [
    "###Results Data"
   ]
  },
  {
   "cell_type": "markdown",
   "metadata": {},
   "source": [
    "Set index of all results datasets"
   ]
  },
  {
   "cell_type": "code",
   "execution_count": null,
   "metadata": {
    "collapsed": false
   },
   "outputs": [],
   "source": [
    "res.set_index(['MonitoringLocationIdentifier'],inplace=True)\n",
    "resf.set_index(['MonitoringLocationIdentifier'],inplace=True)\n",
    "dogms.set_index(['MonitoringLocationIdentifier'],inplace=True)"
   ]
  },
  {
   "cell_type": "markdown",
   "metadata": {},
   "source": [
    "Drop unneeded Columns"
   ]
  },
  {
   "cell_type": "code",
   "execution_count": null,
   "metadata": {
    "collapsed": false
   },
   "outputs": [],
   "source": [
    "resdroplist = ['ActivityMediaName','ActivityStartTime/Time','ActivityStartTime/TimeZoneCode','ActivityEndDate','ActivityEndTime/Time',\n",
    "          'ActivityEndTime/TimeZoneCode','ActivityDepthHeightMeasure/MeasureValue','ActivityDepthHeightMeasure/MeasureUnitCode',\n",
    "          'ActivityDepthAltitudeReferencePointText','ActivityTopDepthHeightMeasure/MeasureValue','ActivityTopDepthHeightMeasure/MeasureUnitCode',\n",
    "          'ActivityTopDepthHeightMeasure/MeasureUnitCode','ActivityBottomDepthHeightMeasure/MeasureValue',\n",
    "          'ActivityBottomDepthHeightMeasure/MeasureUnitCode','ActivityConductingOrganizationText','ResultWeightBasisText',\n",
    "          'ResultTimeBasisText','ResultTemperatureBasisText','ResultParticleSizeBasisText','PrecisionValue','ResultCommentText',\n",
    "          'ResultWeightBasisText','ResultTimeBasisText','ResultTemperatureBasisText','ResultParticleSizeBasisText','PrecisionValue',\n",
    "          'ResultCommentText','HydrologicCondition','HydrologicEvent','SampleCollectionMethod/MethodIdentifier',\n",
    "          'SampleCollectionMethod/MethodIdentifierContext','SampleCollectionMethod/MethodName','SampleCollectionEquipmentName',\n",
    "          'ResultDepthHeightMeasure/MeasureValue','ResultDepthHeightMeasure/MeasureUnitCode','ResultDepthAltitudeReferencePointText',\n",
    "          'SubjectTaxonomicName','SampleTissueAnatomyName','ResultAnalyticalMethod/MethodIdentifier','ResultAnalyticalMethod/MethodIdentifierContext',\n",
    "          'ResultAnalyticalMethod/MethodName','MethodDescriptionText','LaboratoryName','AnalysisStartDate','PreparationStartDate',\n",
    "          'OrganizationFormalName','ActivityMediaSubdivisionName','ProjectIdentifier','ActivityConductingOrganizationText',\n",
    "          'DetectionQuantitationLimitTypeName','ResultLaboratoryCommentText','ResultValueTypeName','ActivityTypeCode','StatisticalBaseCode',\n",
    "          'ResultStatusIdentifier']\n",
    "res.drop(resdroplist,inplace=True,axis=1)\n",
    "resf.drop(resdroplist,inplace=True,axis=1)"
   ]
  },
  {
   "cell_type": "markdown",
   "metadata": {},
   "source": [
    "Append Results Data Together"
   ]
  },
  {
   "cell_type": "code",
   "execution_count": null,
   "metadata": {
    "collapsed": false
   },
   "outputs": [],
   "source": [
    "resall = res.append([resf,dogms])\n",
    "resall.reset_index(inplace=True,drop=False)\n",
    "resall['MonitoringLocationIdentifier'].str.replace('_WQX-','-',inplace=True)\n",
    "resall.set_index(['MonitoringLocationIdentifier'],inplace=True)"
   ]
  },
  {
   "cell_type": "code",
   "execution_count": null,
   "metadata": {
    "collapsed": false
   },
   "outputs": [],
   "source": [
    "list(resall['CharacteristicName'].unique())"
   ]
  },
  {
   "cell_type": "markdown",
   "metadata": {},
   "source": [
    "##Stations"
   ]
  },
  {
   "cell_type": "code",
   "execution_count": null,
   "metadata": {
    "collapsed": false
   },
   "outputs": [],
   "source": [
    "statdrp = ['OrganizationIdentifier','OrganizationFormalName','MonitoringLocationDescriptionText','HUCEightDigitCode','DrainageAreaMeasure/MeasureValue',\n",
    "           'DrainageAreaMeasure/MeasureUnitCode','ContributingDrainageAreaMeasure/MeasureValue','ContributingDrainageAreaMeasure/MeasureUnitCode',\n",
    "           'SourceMapScaleNumeric','HorizontalAccuracyMeasure/MeasureValue','HorizontalAccuracyMeasure/MeasureUnitCode',\n",
    "           'HorizontalCollectionMethodName','HorizontalCoordinateReferenceSystemDatumName','VerticalMeasure/MeasureValue',\n",
    "           'VerticalMeasure/MeasureUnitCode','VerticalAccuracyMeasure/MeasureValue','VerticalAccuracyMeasure/MeasureUnitCode',\n",
    "           'VerticalCollectionMethodName','VerticalCoordinateReferenceSystemDatumName','CountryCode','StateCode','CountyCode']\n",
    "stat.drop(statdrp,inplace=True,axis=1)"
   ]
  },
  {
   "cell_type": "code",
   "execution_count": null,
   "metadata": {
    "collapsed": false
   },
   "outputs": [],
   "source": [
    "stat['MonitoringLocationIdentifier'].str.replace('_WQX-','-',inplace=True)"
   ]
  },
  {
   "cell_type": "code",
   "execution_count": null,
   "metadata": {
    "collapsed": false
   },
   "outputs": [],
   "source": [
    "stat.set_index(['MonitoringLocationIdentifier'],inplace=True)"
   ]
  },
  {
   "cell_type": "markdown",
   "metadata": {},
   "source": [
    "Filter Stations"
   ]
  },
  {
   "cell_type": "code",
   "execution_count": null,
   "metadata": {
    "collapsed": false
   },
   "outputs": [],
   "source": [
    "stat = stat[(stat.MonitoringLocationTypeName!='Stream')&(stat.MonitoringLocationTypeName!='Lake')&\n",
    "            (stat.MonitoringLocationTypeName!='River/Stream')&(stat.MonitoringLocationTypeName!='Facility Other')&\n",
    "            (stat.MonitoringLocationTypeName!='Lake, Reservoir, Impoundment')]"
   ]
  },
  {
   "cell_type": "code",
   "execution_count": null,
   "metadata": {
    "collapsed": true
   },
   "outputs": [],
   "source": [
    "stat = stat.append(dogmst)"
   ]
  },
  {
   "cell_type": "code",
   "execution_count": null,
   "metadata": {
    "collapsed": true
   },
   "outputs": [],
   "source": [
    "stat[\"index\"] = stat.index\n",
    "stat.drop_duplicates(subset='index', take_last=False, inplace=True)\n",
    "del stat[\"index\"]"
   ]
  },
  {
   "cell_type": "code",
   "execution_count": null,
   "metadata": {
    "collapsed": false
   },
   "outputs": [],
   "source": [
    "data = resall.drop_duplicates(subset=['ActivityIdentifier','CharacteristicName'])"
   ]
  },
  {
   "cell_type": "markdown",
   "metadata": {},
   "source": [
    "#Pivot Data"
   ]
  },
  {
   "cell_type": "code",
   "execution_count": null,
   "metadata": {
    "collapsed": false
   },
   "outputs": [],
   "source": [
    "datapiv = data.pivot(index='ActivityIdentifier', \n",
    "                     columns='CharacteristicName', values='ResultMeasureValue')"
   ]
  },
  {
   "cell_type": "code",
   "execution_count": null,
   "metadata": {
    "collapsed": false
   },
   "outputs": [],
   "source": [
    "alllist = list(datapiv.columns)"
   ]
  },
  {
   "cell_type": "code",
   "execution_count": null,
   "metadata": {
    "collapsed": false
   },
   "outputs": [],
   "source": [
    "keeplist = ['Alkalinity','Bicarbonate','Calcium', 'Carbonate (CO3)', 'Chloride', 'Potassium', 'Silica', 'Sodium', 'Magnesium',\n",
    " 'Sulfate', 'Sulfate as S', 'Sulfate as SO4', 'pH', 'Total dissolved solids','Sodium plus potassium',\n",
    " 'Specific conductance', 'Temperature, water']\n",
    "droplist = set(alllist) - set(keeplist) \n",
    "  \n",
    "datapiv.drop(droplist,inplace=True,axis=1)"
   ]
  },
  {
   "cell_type": "code",
   "execution_count": null,
   "metadata": {
    "collapsed": true
   },
   "outputs": [],
   "source": [
    "spccond = datapiv.dropna(how='all',subset=['Specific conductance'])"
   ]
  },
  {
   "cell_type": "code",
   "execution_count": null,
   "metadata": {
    "collapsed": false
   },
   "outputs": [],
   "source": [
    "#datapiv.dropna(how='all',subset=['Bicarbonate','Calcium'],inplace=True)\n",
    "datapiv.sort(axis=1, inplace=True)"
   ]
  },
  {
   "cell_type": "markdown",
   "metadata": {},
   "source": [
    "Find Relationship between Bicarbonate and Alkalinity.  Fill in missing bicarbonate values."
   ]
  },
  {
   "cell_type": "code",
   "execution_count": null,
   "metadata": {
    "collapsed": false
   },
   "outputs": [],
   "source": [
    "plt.figure()\n",
    "piv = datapiv.ix[:,['Alkalinity','Bicarbonate']]\n",
    "piv = piv[(piv.Alkalinity < 5000)&(piv.Bicarbonate < 5000)]\n",
    "piv = piv[(piv.Alkalinity > 0)&(piv.Bicarbonate > 0)]\n",
    "piv.dropna(inplace=True)\n",
    "plt.scatter(piv.Alkalinity,piv.Bicarbonate)\n",
    "lin = linregress(piv.Alkalinity.values,piv.Bicarbonate.values)\n",
    "print lin\n",
    "datapiv.Bicarbonate = datapiv.apply(lambda x: x['Alkalinity']*lin[0]+lin[1] if np.isnan(x['Bicarbonate']) else x['Bicarbonate'],1)"
   ]
  },
  {
   "cell_type": "code",
   "execution_count": null,
   "metadata": {
    "collapsed": false
   },
   "outputs": [],
   "source": [
    "datapiv.drop('Alkalinity',inplace=True,axis=1)"
   ]
  },
  {
   "cell_type": "code",
   "execution_count": null,
   "metadata": {
    "collapsed": false
   },
   "outputs": [],
   "source": [
    "resall.reset_index(inplace=True)\n",
    "alist =list(resall.columns) \n",
    "kplist = ['ActivityStartDate','ActivityIdentifier','SampleAquifer',\n",
    "          'MonitoringLocationIdentifier']\n",
    "drplist = set(alist) - set(kplist) \n",
    "  \n",
    "resall.drop(drplist,inplace=True,axis=1)"
   ]
  },
  {
   "cell_type": "code",
   "execution_count": null,
   "metadata": {
    "collapsed": false
   },
   "outputs": [],
   "source": [
    "dfpiv = pd.merge(datapiv,resall,left_index=True,\n",
    "                 right_on='ActivityIdentifier',how='left')"
   ]
  },
  {
   "cell_type": "code",
   "execution_count": null,
   "metadata": {
    "collapsed": false
   },
   "outputs": [],
   "source": [
    "dfcond = pd.merge(spccond,resall,left_index=True,\n",
    "                 right_on='ActivityIdentifier',how='left')"
   ]
  },
  {
   "cell_type": "code",
   "execution_count": null,
   "metadata": {
    "collapsed": true
   },
   "outputs": [],
   "source": [
    "dfc = pd.merge(dfcond,stat,left_on='MonitoringLocationIdentifier',\n",
    "              right_index=True, how='left')"
   ]
  },
  {
   "cell_type": "code",
   "execution_count": null,
   "metadata": {
    "collapsed": false
   },
   "outputs": [],
   "source": [
    "df = pd.merge(dfpiv,stat,left_on='MonitoringLocationIdentifier',\n",
    "              right_index=True, how='left')"
   ]
  },
  {
   "cell_type": "code",
   "execution_count": null,
   "metadata": {
    "collapsed": false
   },
   "outputs": [],
   "source": [
    "df.drop_duplicates(inplace=True)"
   ]
  },
  {
   "cell_type": "code",
   "execution_count": null,
   "metadata": {
    "collapsed": false
   },
   "outputs": [],
   "source": [
    "list(df.columns)"
   ]
  },
  {
   "cell_type": "code",
   "execution_count": null,
   "metadata": {
    "collapsed": false
   },
   "outputs": [],
   "source": [
    "#statlump = df.groupby('MonitoringLocationIdentifier').agg([np.mean, np.min, np.max, np.std, np.size, np.median]).reset_index()\n",
    "statlump = df.groupby('MonitoringLocationIdentifier').agg([np.median]).reset_index()\n",
    "statlump.dropna(how='any',subset=[('Bicarbonate','median'),('Calcium','median')],inplace=True)"
   ]
  },
  {
   "cell_type": "code",
   "execution_count": null,
   "metadata": {
    "collapsed": false
   },
   "outputs": [],
   "source": [
    "df.groupby('FormationTypeText')['Temperature, water'].agg([np.min, np.mean, np.median, np.max, np.std, np.size]).reset_index()"
   ]
  },
  {
   "cell_type": "code",
   "execution_count": null,
   "metadata": {
    "collapsed": false
   },
   "outputs": [],
   "source": [
    "df.groupby('FormationTypeText')['Specific conductance'].agg([np.min, np.mean, np.median, np.max, np.std, np.size]).reset_index()"
   ]
  },
  {
   "cell_type": "code",
   "execution_count": null,
   "metadata": {
    "collapsed": false
   },
   "outputs": [],
   "source": [
    "df.dropna(how='all',subset=['Bicarbonate','Calcium'],inplace=True)\n",
    "df.to_csv(\"E:\\\\PROJECTS\\\\MLSNF\\\\Data\\\\CHEM\\\\chem_data_out.csv\")"
   ]
  },
  {
   "cell_type": "code",
   "execution_count": null,
   "metadata": {
    "collapsed": false
   },
   "outputs": [],
   "source": [
    "dfc = dfc.groupby('MonitoringLocationIdentifier')['Specific conductance'].agg([np.mean, np.min, np.max, np.std, np.size, np.median]).reset_index()\n",
    "dfc.dropna(how='all',inplace=True)\n",
    "dfc.to_csv(\"E:\\\\PROJECTS\\\\MLSNF\\\\Data\\\\CHEM\\\\chem_data_cond_out.csv\")"
   ]
  },
  {
   "cell_type": "code",
   "execution_count": null,
   "metadata": {
    "collapsed": false
   },
   "outputs": [],
   "source": [
    "df"
   ]
  },
  {
   "cell_type": "code",
   "execution_count": null,
   "metadata": {
    "collapsed": true
   },
   "outputs": [],
   "source": [
    "statlump.to_csv(\"E:\\\\PROJECTS\\\\MLSNF\\\\Data\\\\CHEM\\\\lumped_data.csv\")"
   ]
  },
  {
   "cell_type": "code",
   "execution_count": null,
   "metadata": {
    "collapsed": true
   },
   "outputs": [],
   "source": []
  }
 ],
 "metadata": {
  "kernelspec": {
   "display_name": "Python 2",
   "language": "python",
   "name": "python2"
  },
  "language_info": {
   "codemirror_mode": {
    "name": "ipython",
    "version": 2
   },
   "file_extension": ".py",
   "mimetype": "text/x-python",
   "name": "python",
   "nbconvert_exporter": "python",
   "pygments_lexer": "ipython2",
   "version": "2.7.8"
  }
 },
 "nbformat": 4,
 "nbformat_minor": 0
}
