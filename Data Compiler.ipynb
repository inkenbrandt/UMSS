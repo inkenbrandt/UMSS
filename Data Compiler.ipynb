{
 "cells": [
  {
   "cell_type": "code",
   "execution_count": 65,
   "metadata": {
    "collapsed": false
   },
   "outputs": [],
   "source": [
    "import pandas as pd\n",
    "import numpy as np\n",
    "import datetime\n",
    "from numpy import dtype"
   ]
  },
  {
   "cell_type": "code",
   "execution_count": 66,
   "metadata": {
    "collapsed": true
   },
   "outputs": [],
   "source": [
    "#rootname = \"E:/PROJECTS/MLSNF/Data/CHEM/\"\n",
    "rootname = \"U:/GWP/Groundwater/UMSS_Manti/Data/\"\n",
    "#rootname = \"/media/p/5F5B-8FCB/PROJECTS/MLSNF/Data/CHEM/\" #ubuntu thumb drive"
   ]
  },
  {
   "cell_type": "markdown",
   "metadata": {},
   "source": [
    "## DOGM Data"
   ]
  },
  {
   "cell_type": "markdown",
   "metadata": {},
   "source": [
    "Utah Division of Oil Gas and Mining (DOGM) data derived from the <a href=http://linux1.ogm.utah.gov/WebStuff/wwwroot/wqdb.html>DOGM website</a>. Station information obtained from digitization of PDF maps provided by mining companies to DOGM. "
   ]
  },
  {
   "cell_type": "code",
   "execution_count": 67,
   "metadata": {
    "collapsed": true
   },
   "outputs": [],
   "source": [
    "DOGM = rootname + \"DOGM/UDOGM_allResults.csv\""
   ]
  },
  {
   "cell_type": "code",
   "execution_count": 68,
   "metadata": {
    "collapsed": true
   },
   "outputs": [],
   "source": [
    "DOGM_ST = rootname + \"DOGM/dogm_stations.xls\""
   ]
  },
  {
   "cell_type": "code",
   "execution_count": 69,
   "metadata": {
    "collapsed": true
   },
   "outputs": [],
   "source": [
    "MAYO = rootname + \"MayoChemdataV2.xlsx\""
   ]
  },
  {
   "cell_type": "markdown",
   "metadata": {},
   "source": [
    "###DOGM Chemistry Data"
   ]
  },
  {
   "cell_type": "markdown",
   "metadata": {},
   "source": [
    "Import and Prepare DOGM Results Data"
   ]
  },
  {
   "cell_type": "code",
   "execution_count": 70,
   "metadata": {
    "collapsed": true
   },
   "outputs": [],
   "source": [
    "parmatch = {\"ACIDITY AS CACO3\":\"Acidity\", \"TOTAL ALKALINITY AS CACO3\":\"Alkalinity, total\", \n",
    "            \"DISSOLVED ALUMINUM\":\"Aluminum\", \"TOTAL ALUMINUM\":\"Aluminum\", \"AMMONIA AS N\":\"Ammonia-nitrogen as N\", \n",
    "            \"DISSOLVED ARSENIC\":\"Arsenic\", \"TOTAL ARSENIC\":\"Arsenic\", \"DISSOLVED BARIUM\":\"Barium\", \n",
    "            \"TOTAL BARIUM\":\"Barium\", \"TOTAL BERYLLIUM\":\"Beryllium\", \"BICARBONATE AS HCO3\":\"Bicarbonate\", \n",
    "            \"B.O.D. 5, MG/L\":\"Biochemical oxygen demand, standard conditions\", \"DISSOLVED BORON\":\"Boron\", \n",
    "            \"TOTAL BORON\":\"Boron\", \"BROMIDE\":\"Bromide\", \"DISSOLVED CADMIUM\":\"Cadmium\", \"TOTAL CADMIUM\":\"Cadmium\", \n",
    "            \"DISSOLVED CALCIUM\":\"Calcium\", \"TOTAL CALCIUM\":\"Calcium\", \"CARBONATE AS CO3\":\"Carbonate\", \n",
    "            \"C.O.D., MG/L\":\"Chemical oxygen demand\", \"CHLORIDE\":\"Chloride\", \"DISSOLVED CHROMIUM\":\"Chromium\", \n",
    "            \"TOTAL CHROMIUM\":\"Chromium\", \"CHROMIUM HEX, CR\":\"Chromium(VI)\", \"TOTAL COBALT\":\"Cobalt\", \n",
    "            \"SP. CONDUCTIVITY (FIELD)\":\"Conductivity\", \"SPECIFIC CONDUCTIVITY (LAB)\":\"Conductivity\", \n",
    "            \"DISSOLVED COPPER\":\"Copper\", \"TOTAL COPPER\":\"Copper\", \"CYANIDE\":\"Cyanide\", \"DEPTH\":\"Depth\", \n",
    "            \"DISSOLVED OXYGEN (FIELD)\":\"Dissolved oxygen (DO)\", \"FLOW\":\"Flow\", \"FLUORIDE\":\"Fluoride\", \n",
    "            \"TOTAL HARDNESS AS CACO3\":\"Hardness, Ca, Mg\", \"HYDROXIDE\":\"Hydroxide\", \"DISSOLVED IRON\":\"Iron\", \n",
    "            \"TOTAL IRON\":\"Iron\", \"TOTAL KIELDAHL NITROGEN, T.K.N.\":\"Kjeldahl nitrogen\", \"DISSOLVED LEAD\":\"Lead\", \n",
    "            \"TOTAL LEAD\":\"Lead\", \"DISSOLVED MAGNESIUM\":\"Magnesium\", \"TOTAL MAGNESIUM\":\"Magnesium\", \n",
    "            \"DISSOLVED MANGANESE\":\"Manganese\", \"TOTAL MANGANESE\":\"Manganese\", \"DISSOLVED MERCURY\":\"Mercury\", \n",
    "            \"TOTAL MERCURY\":\"Mercury\", \"DISSOLVED MOLYBDENUM\":\"Molybdenum\", \"TOTAL MOLYBDENUM\":\"Molybdenum\", \n",
    "            \"DISSOLVED NICKEL\":\"Nickel\", \"TOTAL NICKEL\":\"Nickel\", \"DISSOLVED NITRATE, NO3\":\"Nitrate\", \n",
    "            \"NITRATE AS N\":\"Nitrate as N\", \"DISSOLVED NITRITE, NO2\":\"Nitrite\", \"NITRITE AS N\":\"Nitrogen\", \n",
    "            \"NO2+NO3 AS N\":\"Nitrogen\", \"DISSOLVED ORTHO PHOSPH, OPO4\":\"Orthophosphate\", \n",
    "            \"ORTHO. PHOSPHATE\":\"Orthophosphate\", \"PH (FIELD)\":\"pH\", \"PH (LAB)\":\"pH, lab\", \n",
    "            \"TOTAL PHOSPHORUS\":\"Phosphorus\", \"DISSOLVED POTASSIUM\":\"Potassium\", \"DISSOLVED SELENIUM\":\"Selenium\", \n",
    "            \"TOTAL SELENIUM\":\"Selenium\", \"DISSOLVED SILICA, SIO2\":\"Silica\", \"DISSOLVED SILVER\":\"Silver\", \n",
    "            \"TOTAL SILVER\":\"Silver\", \"DISSOLVED SODIUM\":\"Sodium\", \"TOTAL SODIUM\":\"Sodium\", \n",
    "            \"SODIUM ADSORPTION RATIO\":\"Sodium adsorption ratio\", \"SULFATE\":\"Sulfate\", \"SULFIDE\":\"Sulfide\", \n",
    "            \"TOTAL ANIONS\":\"Sum of anions\", \"TOTAL CATIONS\":\"Sum of cations\", \n",
    "            \"AIR TEMPERATURE (FIELD)\":\"Temperature, air\", \"FIELD WATER TEMPERATURE\":\"Temperature, water\", \n",
    "            \"TOTAL DISSOLVED SOLIDS, @ 180 C\":\"Total dissolved solids\", \n",
    "            \"TOTAL SUSPENDED SOLIDS\":\"Total suspended solids\", \"TURBIDITY (FIELD)\":\"Turbidity\", \n",
    "            \"TURBIDITY (LAB)\":\"Turbidity\", \"TOTAL VANADIUM\":\"Vanadium\", \"DISSOLVED ZINC\":\"Zinc\", \"TOTAL ZINC\":\"Zinc\"} \n"
   ]
  },
  {
   "cell_type": "code",
   "execution_count": 71,
   "metadata": {
    "collapsed": false
   },
   "outputs": [],
   "source": [
    "dogtypes = {'Unnamed: 0':dtype('int8'),'MIN_DET': dtype('float32'), 'MINE_ID': dtype('int8'), \n",
    "            'ANAL_NAME': dtype('str_'), 'PARAM_ID': dtype('int8'), 'SAMPLE_ID': dtype('str_'), 'SITE_NAME': dtype('str_'), \n",
    "            'METHD': dtype('str_'), 'DATE_REC': dtype('str_'),'EQUALITY': dtype('str_'), 'TIME_ANAL': dtype('str_'), \n",
    "            'STATION_ID': dtype('str_'), 'PAR_DESC': dtype('str_'), 'PAR_ABB': dtype('str_'), 'ANAL_METHD': dtype('str_'), \n",
    "            'METH_DESC': dtype('str_'), 'SAMP_TYPE': dtype('str_'), 'LAB_ID': dtype('str_'), 'MINE_NAME': dtype('str_'), \n",
    "            'SITE_DESC': dtype('str_'), 'SITE_ID': dtype('int8'), 'VALUE': dtype('float32'), 'PERM_NO': dtype('str_'), \n",
    "            'LAB_NAME': dtype('str_'), 'UNITS': dtype('str_'), 'SAMP_DESC': dtype('str_'), 'DATE_ANAL': dtype('str_'), \n",
    "            'SITE_TYPE': dtype('str_'), 'LAB_CODE': dtype('str_'), 'SAMPLR_NAM': dtype('str_'), 'COMMENTS': dtype('str_')}"
   ]
  },
  {
   "cell_type": "code",
   "execution_count": 72,
   "metadata": {
    "collapsed": false
   },
   "outputs": [],
   "source": [
    "dogmr = pd.read_csv(DOGM, dtype=dogtypes, parse_dates=[11,14,15,19])"
   ]
  },
  {
   "cell_type": "code",
   "execution_count": 73,
   "metadata": {
    "collapsed": false
   },
   "outputs": [],
   "source": [
    "DResCols = {\"ANAL_METHD\":\"AnalytMeth\", \"ANAL_NAME\":\"Param\", \"COMMENTS\":\"ResultComment\", \"DATE_ANAL\":\"AnalysisDate\", \n",
    "            \"DATETIME_SAMP\":\"SampleDate\", \"EQUALITY\":\"DetectCond\", \"LAB_CODE\":\"LabComments\", \"LAB_NAME\":\"LabName\", \n",
    "            \"METH_DESC\":\"MethodDescript\", \"METHD\":\"SampMeth\", \"MIN_DET\":\"MDL\", \"SAMP_TYPE\":\"SampMethName\", \n",
    "            \"SAMPLE_ID\":\"SampleId\", \"STATION_ID\":\"StationId\", \"UNITS\":\"Unit\", \"VALUE\":\"ResultValue\"} \n",
    "dogmr.rename(columns=DResCols,inplace=True)"
   ]
  },
  {
   "cell_type": "code",
   "execution_count": 74,
   "metadata": {
    "collapsed": true
   },
   "outputs": [],
   "source": [
    "dogmr['Param'] = dogmr['PAR_DESC'].apply(lambda x: parmatch.get(x),1)"
   ]
  },
  {
   "cell_type": "code",
   "execution_count": 75,
   "metadata": {
    "collapsed": false
   },
   "outputs": [],
   "source": [
    "dogmr.dropna(how='any',subset=['StationId'],inplace=True)"
   ]
  },
  {
   "cell_type": "code",
   "execution_count": 76,
   "metadata": {
    "collapsed": false
   },
   "outputs": [],
   "source": [
    "dogmr.drop(['PARAM_ID','SAMPLR_NAM','SITE_ID','SITE_DESC','PAR_DESC','TIME_ANAL','DATE_RPT',\n",
    "            'DATE_REC','Unnamed: 0', 'LAB_ID','MINE_ID','PAR_ABB','MINE_NAME', 'SITE_NAME', 'SAMP_DESC',\n",
    "            'PERM_NO','SITE_TYPE'], inplace=True, axis=1)"
   ]
  },
  {
   "cell_type": "code",
   "execution_count": 296,
   "metadata": {
    "collapsed": false
   },
   "outputs": [],
   "source": [
    "mayoresults = pd.read_excel(MAYO,1)"
   ]
  },
  {
   "cell_type": "code",
   "execution_count": 78,
   "metadata": {
    "collapsed": false
   },
   "outputs": [
    {
     "data": {
      "text/plain": [
       "Index([u'LabComments', u'DetectCond', u'ResultValue', u'Unit', u'MDL',\n",
       "       u'AnalytMeth', u'AnalysisDate', u'Param', u'SampMethName',\n",
       "       u'ResultComment', u'SampleDate', u'SampMeth', u'MethodDescript',\n",
       "       u'LabName', u'SampleId', u'StationId'],\n",
       "      dtype='object')"
      ]
     },
     "execution_count": 78,
     "metadata": {},
     "output_type": "execute_result"
    }
   ],
   "source": [
    "dogmr.columns"
   ]
  },
  {
   "cell_type": "markdown",
   "metadata": {},
   "source": [
    "###DOGM Station Data"
   ]
  },
  {
   "cell_type": "markdown",
   "metadata": {
    "collapsed": true
   },
   "source": [
    "Import and Prepare DOGM Station Data"
   ]
  },
  {
   "cell_type": "code",
   "execution_count": 79,
   "metadata": {
    "collapsed": false
   },
   "outputs": [],
   "source": [
    "dogms = pd.read_excel(DOGM_ST)"
   ]
  },
  {
   "cell_type": "code",
   "execution_count": 80,
   "metadata": {
    "collapsed": true
   },
   "outputs": [],
   "source": [
    "def geoapply(dic, x):\n",
    "    statlist=list(dic.keys())\n",
    "    if x[0] in statlist:\n",
    "        return dic.get(x[0])\n",
    "    else:\n",
    "        return x[1]"
   ]
  },
  {
   "cell_type": "code",
   "execution_count": 81,
   "metadata": {
    "collapsed": true
   },
   "outputs": [],
   "source": [
    "dogmgeo = {\"UDOGM-02-11450\":\"North Horn Formation (Paleocene-Upper Cretaceous)\", \"UDOGM-03-9292\":\"North Horn Formation (Paleocene-Upper Cretaceous)\", \"UDOGM-04-0045\":\"Star Point Sandstone of Mesaverde Group\", \"UDOGM-04-0048\":\"Blackhawk Formation of Mesaverde Group\", \"UDOGM-04-0153\":\"Price River Formation of Mesaverde Group\", \"UDOGM-04-0154\":\"Price River Formation of Mesaverde Group\", \"UDOGM-04-0155\":\"Price River Formation of Mesaverde Group\", \"UDOGM-04-0156\":\"North Horn Formation (Paleocene-Upper Cretaceous)\", \"UDOGM-04-0157\":\"North Horn Formation (Paleocene-Upper Cretaceous)\", \"UDOGM-04-0158\":\"North Horn Formation (Paleocene-Upper Cretaceous)\", \"UDOGM-04-0159\":\"North Horn Formation (Paleocene-Upper Cretaceous)\", \"UDOGM-04-0160\":\"North Horn Formation (Paleocene-Upper Cretaceous)\", \"UDOGM-04-0161\":\"North Horn Formation (Paleocene-Upper Cretaceous)\", \"UDOGM-04-0162\":\"North Horn Formation (Paleocene-Upper Cretaceous)\", \"UDOGM-04-0163\":\"North Horn Formation (Paleocene-Upper Cretaceous)\", \"UDOGM-04-0164\":\"North Horn Formation (Paleocene-Upper Cretaceous)\", \n",
    "           \"UDOGM-04-0165\":\"Price River Formation of Mesaverde Group\", \"UDOGM-04-0166\":\"Blackhawk Formation of Mesaverde Group\", \n",
    "           \"UDOGM-04-0167\":\"Blackhawk Formation of Mesaverde Group\", \"UDOGM-04-0168\":\"Price River Formation of Mesaverde Group\", \n",
    "           \"UDOGM-04-0169\":\"Price River Formation of Mesaverde Group\", \"UDOGM-04-0170\":\"Price River Formation of Mesaverde Group\", \n",
    "           \"UDOGM-04-0171\":\"Blackhawk Formation of Mesaverde Group\", \"UDOGM-04-0172\":\"Blackhawk Formation of Mesaverde Group\", \n",
    "           \"UDOGM-04-0173\":\"North Horn Formation (Paleocene-Upper Cretaceous)\", \"UDOGM-04-0174\":\"North Horn Formation (Paleocene-Upper Cretaceous)\", \n",
    "           \"UDOGM-04-0175\":\"North Horn Formation (Paleocene-Upper Cretaceous)\", \"UDOGM-04-0176\":\"North Horn Formation (Paleocene-Upper Cretaceous)\", \n",
    "           \"UDOGM-04-0177\":\"North Horn Formation (Paleocene-Upper Cretaceous)\", \"UDOGM-04-0178\":\"North Horn Formation (Paleocene-Upper Cretaceous)\", \"UDOGM-04-0179\":\"North Horn Formation (Paleocene-Upper Cretaceous)\", \"UDOGM-04-0180\":\"North Horn Formation (Paleocene-Upper Cretaceous)\", \"UDOGM-04-0181\":\"North Horn Formation (Paleocene-Upper Cretaceous)\", \"UDOGM-04-0182\":\"North Horn Formation (Paleocene-Upper Cretaceous)\", \"UDOGM-04-0183\":\"North Horn Formation (Paleocene-Upper Cretaceous)\", \"UDOGM-04-0184\":\"North Horn Formation (Paleocene-Upper Cretaceous)\", \n",
    "           \"UDOGM-04-0185\":\"North Horn Formation (Paleocene-Upper Cretaceous)\", \"UDOGM-04-0186\":\"North Horn Formation (Paleocene-Upper Cretaceous)\", \"UDOGM-04-0187\":\"North Horn Formation (Paleocene-Upper Cretaceous)\", \"UDOGM-04-0188\":\"North Horn Formation (Paleocene-Upper Cretaceous)\", \"UDOGM-04-0189\":\"North Horn Formation (Paleocene-Upper Cretaceous)\", \"UDOGM-04-0190\":\"North Horn Formation (Paleocene-Upper Cretaceous)\", \"UDOGM-04-0191\":\"North Horn Formation (Paleocene-Upper Cretaceous)\", \"UDOGM-04-0192\":\"North Horn Formation (Paleocene-Upper Cretaceous)\", \"UDOGM-04-0197\":\"Blackhawk Formation of Mesaverde Group\", \"UDOGM-04-0198\":\"North Horn Formation (Paleocene-Upper Cretaceous)\", \"UDOGM-04-0282\":\"Valley Fill\", \"UDOGM-04-0283\":\"Valley Fill\", \"UDOGM-04-0284\":\"Valley Fill\", \"UDOGM-04-0285\":\"Valley Fill\", \"UDOGM-04-0286\":\"Valley Fill\", \"UDOGM-04-0287\":\"Valley Fill\", \"UDOGM-04-0288\":\"Valley Fill\", \"UDOGM-04-0289\":\"Valley Fill\", \"UDOGM-04-0290\":\"Valley Fill\", \"UDOGM-04-0291\":\"Valley Fill\", \"UDOGM-04-0292\":\"Valley Fill\", \"UDOGM-04-0293\":\"Valley Fill\", \"UDOGM-04-0294\":\"Valley Fill\", \"UDOGM-04-0295\":\"Valley Fill\", \"UDOGM-04-0296\":\"Valley Fill\", \"UDOGM-04-0297\":\"Valley Fill\", \"UDOGM-04-0298\":\"Valley Fill\", \"UDOGM-04-0299\":\"Valley Fill\", \"UDOGM-04-0300\":\"Valley Fill\", \"UDOGM-04-0301\":\"Valley Fill\", \"UDOGM-04-0302\":\"Valley Fill\", \"UDOGM-04-0303\":\"Valley Fill\", \n",
    "           \"UDOGM-04-0304\":\"Valley Fill\", \"UDOGM-04-0305\":\"Valley Fill\", \"UDOGM-04-0306\":\"Valley Fill\", \"UDOGM-04-0307\":\"Valley Fill\", \"UDOGM-04-0308\":\"Valley Fill\", \"UDOGM-04-0309\":\"Valley Fill\", \"UDOGM-04-0310\":\"Valley Fill\", \"UDOGM-04-0311\":\"Valley Fill\", \"UDOGM-04-0312\":\"Valley Fill\", \"UDOGM-04-0313\":\"Valley Fill\", \"UDOGM-04-0314\":\"Valley Fill\", \"UDOGM-04-0315\":\"Valley Fill\", \"UDOGM-04-0316\":\"Valley Fill\", \"UDOGM-05-0032\":\"North Horn Formation (Paleocene-Upper Cretaceous)\", \"UDOGM-05-0067\":\"Blackhawk Formation of Mesaverde Group\", \"UDOGM-08-0025\":\"Price River Formation of Mesaverde Group\", \"UDOGM-10-0006\":\"Flagstaff Limestone (Eocene-Paleocene)\", \n",
    "           \"UDOGM-10-0007\":\"North Horn Formation (Paleocene-Upper Cretaceous)\", \"UDOGM-10-0011\":\"North Horn Formation (Paleocene-Upper Cretaceous)\", \"UDOGM-10-0012\":\"North Horn Formation (Paleocene-Upper Cretaceous)\", \"UDOGM-15-0021\":\"North Horn Formation (Paleocene-Upper Cretaceous)\", \"UDOGM-15-0031\":\"Flagstaff Limestone (Eocene-Paleocene)\", \"UDOGM-22-0012\":\"Blackhawk Formation of Mesaverde Group\", \"UDOGM-24-0017\":\"Blue Gate Shale Member of Mancos Shale\", \"UDOGM-24-0018\":\"Ferron Sandstone Member of Mancos Shale\", \"UDOGM-24-0019\":\"Ferron Sandstone Member of Mancos Shale\", \"UDOGM-24-0021\":\"Ferron Sandstone Member of Mancos Shale\", \"UDOGM-24-0022\":\"Ferron Sandstone Member of Mancos Shale\", \"UDOGM-24-0023\":\"Ferron Sandstone Member of Mancos Shale\", \"UDOGM-24-0024\":\"Ferron Sandstone Member of Mancos Shale\", \"UDOGM-24-0025\":\"Valley Fill\", \"UDOGM-24-0027\":\"Valley Fill\", \"UDOGM-24-0028\":\"Valley Fill\", \"UDOGM-24-0029\":\"Valley Fill\", \"UDOGM-24-0030\":\"Valley Fill\", \"UDOGM-24-0031\":\"Valley Fill\", \"UDOGM-24-0032\":\"Valley Fill\", \"UDOGM-24-0033\":\"Valley Fill\", \"UDOGM-24-0034\":\"Valley Fill\", \"UDOGM-24-0035\":\"Blue Gate Shale Member of Mancos Shale\", \"UDOGM-24-0036\":\"Blue Gate Shale Member of Mancos Shale\", \"UDOGM-24-0038\":\"Blue Gate Shale Member of Mancos Shale\", \"UDOGM-24-0039\":\"Blue Gate Shale Member of Mancos Shale\", \"UDOGM-24-0040\":\"Blue Gate Shale Member of Mancos Shale\", \"UDOGM-24-0041\":\"Blue Gate Shale Member of Mancos Shale\", \n",
    "           \"UDOGM-24-0042\":\"Ferron Sandstone Member of Mancos Shale\", \"UDOGM-24-0043\":\"Ferron Sandstone Member of Mancos Shale\", \n",
    "           \"UDOGM-24-0046\":\"Ferron Sandstone Member of Mancos Shale\", \"UDOGM-24-0047\":\"Ferron Sandstone Member of Mancos Shale\", \n",
    "           \"UDOGM-24-0048\":\"Ferron Sandstone Member of Mancos Shale\", \"UDOGM-24-0050\":\"Ferron Sandstone Member of Mancos Shale\", \n",
    "           \"UDOGM-24-0051\":\"Ferron Sandstone Member of Mancos Shale\", \"UDOGM-24-0052\":\"Ferron Sandstone Member of Mancos Shale\", \n",
    "           \"UDOGM-24-0055\":\"Ferron Sandstone Member of Mancos Shale\", \"UDOGM-24-0057\":\"Ferron Sandstone Member of Mancos Shale\", \n",
    "           \"UDOGM-24-0058\":\"Ferron Sandstone Member of Mancos Shale\", \"UDOGM-24-0068\":\"Ferron Sandstone Member of Mancos Shale\", \"UDOGM-24-10578\":\"Ferron Sandstone Member of Mancos Shale\", \"UDOGM-25-0014\":\"Castlegate Sandstone of Mesaverde Group\", \"UDOGM-25-0015\":\"Blackhawk Formation of Mesaverde Group\", \"UDOGM-25-0016\":\"Blackhawk Formation of Mesaverde Group\", \"UDOGM-25-0017\":\"Blackhawk Formation of Mesaverde Group\", \n",
    "           \"UDOGM-25-0018\":\"Blackhawk Formation of Mesaverde Group\", \"UDOGM-25-0019\":\"Blackhawk Formation of Mesaverde Group\", \n",
    "           \"UDOGM-25-0020\":\"Castlegate Sandstone of Mesaverde Group\", \"UDOGM-25-0021\":\"Castlegate Sandstone of Mesaverde Group\", \n",
    "           \"UDOGM-25-0022\":\"Blackhawk Formation of Mesaverde Group\", \"UDOGM-25-0023\":\"Blackhawk Formation of Mesaverde Group\", \n",
    "           \"UDOGM-25-0024\":\"Blackhawk Formation of Mesaverde Group\", \"UDOGM-25-0025\":\"Blackhawk Formation of Mesaverde Group\", \"UDOGM-25-0026\":\"Blackhawk Formation of Mesaverde Group\", \"UDOGM-25-0027\":\"Castlegate Sandstone of Mesaverde Group\", \"UDOGM-25-0028\":\"Blackhawk Formation of Mesaverde Group\", \"UDOGM-25-0029\":\"Blackhawk Formation of Mesaverde Group\", \"UDOGM-25-0030\":\"Blackhawk Formation of Mesaverde Group\", \"UDOGM-25-0031\":\"Castlegate Sandstone of Mesaverde Group\", \"UDOGM-25-0032\":\"Blackhawk Formation of Mesaverde Group\", \"UDOGM-25-0037\":\"North Horn Formation (Paleocene-Upper Cretaceous)\", \"UDOGM-25-0038\":\"Castlegate Sandstone of Mesaverde Group\", \"UDOGM-25-0046\":\"Castlegate Sandstone of Mesaverde Group\", \n",
    "           \"UDOGM-25-0059\":\"Castlegate Sandstone of Mesaverde Group\", \n",
    "           \"UDOGM-25-0060\":\"Castlegate Sandstone of Mesaverde Group\", \"UDOGM-25-0061\":\"Blackhawk Formation of Mesaverde Group\", \n",
    "           \"UDOGM-25-0064\":\"Blackhawk Formation of Mesaverde Group\", \"UDOGM-25-0065\":\"Castlegate Sandstone of Mesaverde Group\", \n",
    "           \"UDOGM-25-0066\":\"Blackhawk Formation of Mesaverde Group\", \"UDOGM-25-0078\":\"Price River Formation of Mesaverde Group\", \"UDOGM-25-0079\":\"Price River Formation of Mesaverde Group\", \"UDOGM-25-0080\":\"North Horn Formation (Paleocene-Upper Cretaceous)\", \"UDOGM-25-0081\":\"Price River Formation of Mesaverde Group\", \"UDOGM-25-0082\":\"Price River Formation of Mesaverde Group\", \"UDOGM-25-0083\":\"North Horn Formation (Paleocene-Upper Cretaceous)\", \"UDOGM-25-0084\":\"Castlegate Sandstone of Mesaverde Group\", \"UDOGM-25-0085\":\"Castlegate Sandstone of Mesaverde Group\", \"UDOGM-25-0088\":\"Price River Formation of Mesaverde Group\", \"UDOGM-25-0089\":\"Price River Formation of Mesaverde Group\", \"UDOGM-25-0090\":\"Price River Formation of Mesaverde Group\", \"UDOGM-25-0091\":\"Castlegate Sandstone of Mesaverde Group\", \"UDOGM-25-0092\":\"Price River Formation of Mesaverde Group\", \"UDOGM-25-0093\":\"Blackhawk Formation of Mesaverde Group\", \n",
    "           \"UDOGM-25-0094\":\"Castlegate Sandstone of Mesaverde Group\", \n",
    "           \"UDOGM-25-0095\":\"Castlegate Sandstone of Mesaverde Group\", \n",
    "           \"UDOGM-25-0096\":\"Price River Formation of Mesaverde Group\", \n",
    "           \"UDOGM-25-0097\":\"Price River Formation of Mesaverde Group\", \n",
    "           \"UDOGM-25-0098\":\"Price River Formation of Mesaverde Group\", \n",
    "           \"UDOGM-25-0099\":\"Price River Formation of Mesaverde Group\", \"UDOGM-25-0100\":\"Price River Formation of Mesaverde Group\", \n",
    "           \"UDOGM-25-9460\":\"Blackhawk Formation of Mesaverde Group\", \"UDOGM-25-9510\":\"Castlegate Sandstone of Mesaverde Group\", \n",
    "           \"UDOGM-25-9545\":\"Blackhawk Formation of Mesaverde Group\", \"UDOGM-25-9547\":\"Blackhawk Formation of Mesaverde Group\", \n",
    "           \"UDOGM-28-0009\":\"Star Point Sandstone of Mesaverde Group\", \"UDOGM-41-0004\":\"Valley Fill\", \"UDOGM-41-0006\":\"Valley Fill\", \n",
    "           \"UDOGM-41-0007\":\"Valley Fill\", \"UDOGM-41-0008\":\"Valley Fill\", \"UDOGM-41-0009\":\"Valley Fill\", \n",
    "           \"UDOGM-41-0010\":\"Valley Fill\", \"UDOGM-41-0011\":\"Valley Fill\", \"UDOGM-41-0014\":\"Valley Fill\", \n",
    "           \"UDOGM-41-0025\":\"Valley Fill\", \"UDOGM-41-0026\":\"Valley Fill\", \"UDOGM-41-0041\":\"Valley Fill\", \n",
    "           \"UDOGM-41-0047\":\"Valley Fill\", \"UDOGM-41-0055\":\"Valley Fill\", \n",
    "           \"UDOGM-41-0083\":\"Valley Fill\", \"UDOGM-41-0084\":\"Valley Fill\", \"UDOGM-42-0020\":\"Valley Fill\"}\n",
    "\n"
   ]
  },
  {
   "cell_type": "code",
   "execution_count": 82,
   "metadata": {
    "collapsed": false
   },
   "outputs": [],
   "source": [
    "dogms['FmType'] = dogms[['StationId','FmType']].apply(lambda x: geoapply(dogmgeo, x))"
   ]
  },
  {
   "cell_type": "code",
   "execution_count": 83,
   "metadata": {
    "collapsed": true
   },
   "outputs": [],
   "source": [
    "mayogeol = {\"UDOGM-41-0083\":\"Blackhawk\", \"UDOGM-25-0033\":\"Star Point\", \"UDOGM-25-0011\":\"Star Point\", \n",
    "            \"UDOGM-25-0034\":\"North Horn\", \"UDOGM-25-0092\":\"Blackhawk\", \"UDOGM-25-0097\":\"North Horn\", \n",
    "            \"UDOGM-25-0038\":\"Castlegate\", \"UDOGM-25-0096\":\"North Horn\", \"UDOGM-25-0036\":\"Castlegate\", \n",
    "            \"UDOGM-25-0046\":\"Castlegate\", \"UDOGM-02-11452\":\"North Horn\", \"UDOGM-03-0013\":\"North Horn\", \n",
    "            \"UDOGM-03-0010\":\"North Horn\", \"UDOGM-03-0011\":\"Castlegate\", \"UDOGM-03-0033\":\"North Horn\", \n",
    "            \"UDOGM-02-11513\":\"North Horn\", \"UDOGM-03-0031\":\"North Horn\", \"UDOGM-03-0034\":\"North Horn\", \n",
    "            \"UDOGM-02-11508\":\"Price River\", \"UDOGM-03-0021\":\"North Horn\", \"UDOGM-03-0035\":\"North Horn\", \n",
    "            \"UDOGM-04-0020\":\"North Horn\", \"UDOGM-04-0030\":\"North Horn\", \"UDOGM-04-0031\":\"North Horn\", \n",
    "            \"UDOGM-03-0007\":\"North Horn\", \"UDOGM-03-0029\":\"North Horn\", \"UDOGM-03-9306\":\"North Horn\", \n",
    "            \"UDOGM-03-9306\":\"Castlegate\", \"UDOGM-04-0029\":\"Price River\", \"UDOGM-04-0027\":\"Price River\", \n",
    "            \"UDOGM-03-9305\":\"Price River\", \"UDOGM-04-0028\":\"North Horn\", \"UDOGM-02-11493\":\"Price River\", \n",
    "            \"UDOGM-04-0058\":\"North Horn\", \"UDOGM-03-0006\":\"North Horn\", \"UDOGM-04-0010\":\"North Horn\", \n",
    "            \"UDOGM-03-9319\":\"North Horn\", \"UDOGM-02-11479\":\"North Horn\", \"UDOGM-02-11476\":\"North Horn\", \n",
    "            \"UDOGM-04-0013\":\"North Horn\", \"UDOGM-04-0034\":\"Price River\", \"UDOGM-04-0025\":\"North Horn\", \n",
    "            \"UDOGM-02-11715\":\"Price River\", \"UDOGM-04-0036\":\"Price River\", \"UDOGM-04-0021\":\"North Horn\", \n",
    "            \"UDOGM-04-0024\":\"Flagstaff\", \"UDOGM-04-0015\":\"North Horn\", \"UDOGM-02-11467\":\"North Horn\", \n",
    "            \"UDOGM-02-11498\":\"North Horn\", \"UDOGM-02-11487\":\"North Horn\", \"UDOGM-04-0012\":\"Flagstaff\", \n",
    "            \"UDOGM-02-11497\":\"North Horn\", \"UDOGM-02-11496\":\"North Horn\", \"UDOGM-04-0037\":\"North Horn\", \n",
    "            \"UDOGM-04-0011\":\"North Horn\", \"UDOGM-02-11738\":\"Flagstaff\", \"UDOGM-04-0039\":\"North Horn\", \n",
    "            \"UDOGM-02-11528\":\"North Horn\", \"UDOGM-04-0038\":\"North Horn\", \"UDOGM-04-0040\":\"North Horn\", \n",
    "            \"UDOGM-04-0041\":\"North Horn\", \"UDOGM-04-0032\":\"North Horn\", \"UDOGM-02-11506\":\"Price River\", \n",
    "            \"UDOGM-02-11507\":\"Price River\", \"UDOGM-16-0051\":\"Star Point\", \"UDOGM-04-11366\":\"Blackhawk\", \n",
    "            \"UDOGM-04-11196\":\"North Horn\", \"UDOGM-04-11233\":\"Price River\", \"UDOGM-04-11234\":\"Price River\", \n",
    "            \"UDOGM-08-0016\":\"Blackhawk\", \"UDOGM-08-0013\":\"Blackhawk\", \"UDOGM-04-11236\":\"Price River\", \n",
    "            \"UDOGM-04-11258\":\"Star Point\", \"UDOGM-08-0039\":\"North Horn\", \"UDOGM-08-0015\":\"North Horn\", \n",
    "            \"UDOGM-08-0042\":\"North Horn\", \"UDOGM-08-0017\":\"Price River\", \"UDOGM-08-0012\":\"Blackhawk\", \n",
    "            \"UDOGM-08-0018\":\"North Horn\", \"UDOGM-08-0018\":\"North Horn\", \"UDOGM-08-0032\":\"North Horn\", \n",
    "            \"UDOGM-16-0056\":\"North Horn\", \"UDOGM-08-0025\":\"Price River\", \"UDOGM-16-0031\":\"North Horn\", \n",
    "            \"UDOGM-16-0032\":\"North Horn\", \"UDOGM-16-0033\":\"Price River\", \"UDOGM-16-0027\":\"North Horn\", \n",
    "            \"UDOGM-16-0054\":\"Price River\", \"UDOGM-16-0030\":\"North Horn\", \"UDOGM-16-0028\":\"North Horn\", \n",
    "            \"UDOGM-16-0041\":\"North Horn\", \"UDOGM-16-0040\":\"North Horn\", \"UDOGM-12-0014\":\"North Horn\", \n",
    "            \"UDOGM-12-0022\":\"North Horn\", \"UDOGM-16-0042\":\"North Horn\", \"UDOGM-16-0043\":\"North Horn\", \n",
    "            \"UDOGM-12-0034\":\"Castlegate\", \"UDOGM-16-0055\":\"Price River\", \"UDOGM-16-0037\":\"Price River\", \n",
    "            \"UDOGM-12-0023\":\"Castlegate\", \"UDOGM-16-0039\":\"Blackhawk\", \"UDOGM-16-0053\":\"North Horn\", \n",
    "            \"UDOGM-12-0011\":\"Castlegate\", \"UDOGM-16-9762\":\"Blackhawk\", \"UDOGM-16-9764\":\"Blackhawk\", \n",
    "            \"UDOGM-35-9165\":\"North Horn\", \"UDOGM-35-0003\":\"North Horn\", \"UDOGM-35-0002\":\"Blackhawk\", \n",
    "            \"UDOGM-35-9177\":\"North Horn\", \"UDOGM-22-0014\":\"Blackhawk\", \"UDOGM-22-0011\":\"Blackhawk\", \n",
    "            \"UDOGM-35-0005\":\"Castlegate\", \"UDOGM-35-9174\":\"North Horn\", \"UDOGM-21-0028\":\"Blackhawk\", \n",
    "            \"UDOGM-35-9175\":\"North Horn\", \"UDOGM-35-0004\":\"Castlegate\", \"UDOGM-22-0012\":\"Blackhawk\", \n",
    "            \"UDOGM-35-0001\":\"North Horn\", \"UDOGM-21-0029\":\"Blackhawk\", \"UDOGM-22-0013\":\"Blackhawk\", \n",
    "            \"UDOGM-21-0030\":\"Blackhawk\", \"UDOGM-22-0015\":\"Blackhawk\", \"UDOGM-21-0027\":\"Blackhawk\", \n",
    "            \"UDOGM-22-0010\":\"Blackhawk\", \"UDOGM-21-0025\":\"Blackhawk\", \"UDOGM-21-0024\":\"Blackhawk\", \n",
    "            \"UDOGM-21-0023\":\"Blackhawk\", \"UDOGM-21-0020\":\"Blackhawk\", \"UDOGM-21-0022\":\"Blackhawk\", \n",
    "            \"UDOGM-21-0021\":\"Blackhawk\", \"UDOGM-21-0018\":\"Blackhawk\", \"UDOGM-21-0019\":\"Blackhawk\", \n",
    "            \"UDOGM-21-0017\":\"Blackhawk\", \"UDOGM-21-0016\":\"Blackhawk\", \"UDOGM-28-10298\":\"North Horn\", \n",
    "            \"UDOGM-13-0011\":\"Flagstaff\", \"UDOGM-13-0013\":\"Flagstaff\", \"UDOGM-29-10714\":\"North Horn\", \n",
    "            \"UDOGM-13-0009\":\"North Horn\", \"UDOGM-13-0008\":\"Flagstaff\", \"UDOGM-29-10725\":\"Flagstaff\"}"
   ]
  },
  {
   "cell_type": "code",
   "execution_count": 84,
   "metadata": {
    "collapsed": false
   },
   "outputs": [],
   "source": [
    "dogms['FmType'] = dogms[['StationId','FmType']].apply(lambda x: geoapply(mayogeol, x))"
   ]
  },
  {
   "cell_type": "markdown",
   "metadata": {},
   "source": [
    "##WQP Data"
   ]
  },
  {
   "cell_type": "markdown",
   "metadata": {},
   "source": [
    "Data downloaded from the <a href=http://waterqualitydata.us/portal/>Water Quality Portal (WQP)</a> on 7/22/2015. <br>\n",
    "<b>Stations:</b><br>\n",
    "http://waterqualitydata.us/Station/search?sampleMedia=Water&characteristicType=Information%3BInorganics%2C+Major%2C+Metals%3BInorganics%2C+Major%2C+Non-metals%3BInorganics%2C+Minor%2C+Metals%3BInorganics%2C+Minor%2C+Non-metals%3BNot+Assigned%3BNutrient%3BPhysical%3BStable+Isotopes&bBox=-111.68%2C38.8%2C-111%2C40&mimeType=csv&zip=yes&sorted=no <br>\n",
    "<b>Results:</b><br>\n",
    "http://waterqualitydata.us/Result/search?sampleMedia=Water&characteristicType=Information%3BInorganics%2C+Major%2C+Metals%3BInorganics%2C+Major%2C+Non-metals%3BInorganics%2C+Minor%2C+Metals%3BInorganics%2C+Minor%2C+Non-metals%3BNot+Assigned%3BNutrient%3BPhysical%3BStable+Isotopes&bBox=-111.68%2C38.8%2C-111%2C40&mimeType=csv&zip=yes&sorted=no"
   ]
  },
  {
   "cell_type": "markdown",
   "metadata": {},
   "source": [
    "Define location of data downloaded from the Water Quality Portal site."
   ]
  },
  {
   "cell_type": "code",
   "execution_count": 85,
   "metadata": {
    "collapsed": false
   },
   "outputs": [],
   "source": [
    "result = rootname +\"WQP/Result.csv\""
   ]
  },
  {
   "cell_type": "markdown",
   "metadata": {},
   "source": [
    "###Results Data"
   ]
  },
  {
   "cell_type": "markdown",
   "metadata": {},
   "source": [
    "Map data types for data to be imported and designate columns to convert to datetimes."
   ]
  },
  {
   "cell_type": "code",
   "execution_count": 86,
   "metadata": {
    "collapsed": false
   },
   "outputs": [],
   "source": [
    "Rdtypes = {\"OrganizationIdentifier\":np.str_, \"OrganizationFormalName\":np.str_, \"ActivityIdentifier\":np.str_, \n",
    "           \"ActivityTypeCode\":np.str_, \"ActivityMediaName\":np.str_, \"ActivityMediaSubdivisionName\":np.str_, \n",
    "           \"ActivityStartDate\":np.str_, \"ActivityStartTime/Time\":np.str_, \"ActivityStartTime/TimeZoneCode\":np.str_, \n",
    "           \"ActivityEndDate\":np.str_, \"ActivityEndTime/Time\":np.str_, \"ActivityEndTime/TimeZoneCode\":np.str_, \n",
    "           \"ActivityDepthHeightMeasure/MeasureValue\":np.float16, \"ActivityDepthHeightMeasure/MeasureUnitCode\":np.str_, \n",
    "           \"ActivityDepthAltitudeReferencePointText\":np.str_, \"ActivityTopDepthHeightMeasure/MeasureValue\":np.float16, \n",
    "           \"ActivityTopDepthHeightMeasure/MeasureUnitCode\":np.str_, \n",
    "           \"ActivityBottomDepthHeightMeasure/MeasureValue\":np.float16, \n",
    "           \"ActivityBottomDepthHeightMeasure/MeasureUnitCode\":np.str_, \n",
    "           \"ProjectIdentifier\":np.str_, \"ActivityConductingOrganizationText\":np.str_, \n",
    "           \"MonitoringLocationIdentifier\":np.str_, \"ActivityCommentText\":np.str_, \n",
    "           \"SampleAquifer\":np.str_, \"HydrologicCondition\":np.str_, \"HydrologicEvent\":np.str_, \n",
    "           \"SampleCollectionMethod/MethodIdentifier\":np.str_, \"SampleCollectionMethod/MethodIdentifierContext\":np.str_, \n",
    "           \"SampleCollectionMethod/MethodName\":np.str_, \"SampleCollectionEquipmentName\":np.str_, \n",
    "           \"ResultDetectionConditionText\":np.str_, \"CharacteristicName\":np.str_, \"ResultSampleFractionText\":np.str_, \n",
    "           \"ResultMeasureValue\":np.str_, \"ResultMeasure/MeasureUnitCode\":np.str_, \"MeasureQualifierCode\":np.str_, \n",
    "           \"ResultStatusIdentifier\":np.str_, \"StatisticalBaseCode\":np.str_, \"ResultValueTypeName\":np.str_, \n",
    "           \"ResultWeightBasisText\":np.str_, \"ResultTimeBasisText\":np.str_, \"ResultTemperatureBasisText\":np.str_, \n",
    "           \"ResultParticleSizeBasisText\":np.str_, \"PrecisionValue\":np.str_, \"ResultCommentText\":np.str_, \n",
    "           \"USGSPCode\":np.str_, \"ResultDepthHeightMeasure/MeasureValue\":np.float16, \n",
    "           \"ResultDepthHeightMeasure/MeasureUnitCode\":np.str_, \"ResultDepthAltitudeReferencePointText\":np.str_, \n",
    "           \"SubjectTaxonomicName\":np.str_, \"SampleTissueAnatomyName\":np.str_, \n",
    "           \"ResultAnalyticalMethod/MethodIdentifier\":np.str_, \"ResultAnalyticalMethod/MethodIdentifierContext\":np.str_, \n",
    "           \"ResultAnalyticalMethod/MethodName\":np.str_, \"MethodDescriptionText\":np.str_, \"LaboratoryName\":np.str_, \n",
    "           \"AnalysisStartDate\":np.str_, \"ResultLaboratoryCommentText\":np.str_, \n",
    "           \"DetectionQuantitationLimitTypeName\":np.str_, \"DetectionQuantitationLimitMeasure/MeasureValue\":np.str_, \n",
    "           \"DetectionQuantitationLimitMeasure/MeasureUnitCode\":np.str_, \"PreparationStartDate\":np.str_, \n",
    "           \"ProviderName\":np.str_} \n",
    "\n",
    "dt = [[6,7],56,61]"
   ]
  },
  {
   "cell_type": "markdown",
   "metadata": {},
   "source": [
    "Import result data."
   ]
  },
  {
   "cell_type": "code",
   "execution_count": 87,
   "metadata": {
    "collapsed": false
   },
   "outputs": [],
   "source": [
    "res = pd.read_csv(result, dtype=Rdtypes, parse_dates=dt)"
   ]
  },
  {
   "cell_type": "code",
   "execution_count": 88,
   "metadata": {
    "collapsed": true
   },
   "outputs": [],
   "source": [
    "#pd.DataFrame(list(res['CharacteristicName'].unique())).to_clipboard()"
   ]
  },
  {
   "cell_type": "markdown",
   "metadata": {},
   "source": [
    "Remap column names to standards and drop unneeded columns"
   ]
  },
  {
   "cell_type": "code",
   "execution_count": 89,
   "metadata": {
    "collapsed": true
   },
   "outputs": [],
   "source": [
    "ResFieldDict = {\"AnalysisStartDate\":\"AnalysisDate\", \"ResultAnalyticalMethod/MethodIdentifier\":\"AnalytMeth\", \n",
    "                \"ResultAnalyticalMethod/MethodName\":\"AnalytMethId\", \"ResultDetectionConditionText\":\"DetectCond\", \n",
    "                \"ResultLaboratoryCommentText\":\"LabComments\", \"LaboratoryName\":\"LabName\", \n",
    "                \"DetectionQuantitationLimitTypeName\":\"LimitType\", \"DetectionQuantitationLimitMeasure/MeasureValue\":\"MDL\", \n",
    "                \"DetectionQuantitationLimitMeasure/MeasureUnitCode\":\"MDLUnit\", \"MethodDescriptionText\":\"MethodDescript\", \n",
    "                \"OrganizationIdentifier\":\"OrgId\", \"OrganizationFormalName\":\"OrgName\", \"CharacteristicName\":\"Param\", \n",
    "                \"ProjectIdentifier\":\"ProjectId\", \"MeasureQualifierCode\":\"QualCode\", \"ResultCommentText\":\"ResultComment\", \n",
    "                \"ResultStatusIdentifier\":\"ResultStatus\", \"ResultMeasureValue\":\"ResultValue\", \n",
    "                \"ActivityCommentText\":\"SampComment\", \"ActivityDepthHeightMeasure/MeasureValue\":\"SampDepth\", \n",
    "                \"ActivityDepthAltitudeReferencePointText\":\"SampDepthRef\", \n",
    "                \"ActivityDepthHeightMeasure/MeasureUnitCode\":\"SampDepthU\", \"SampleCollectionEquipmentName\":\"SampEquip\", \n",
    "                \"ResultSampleFractionText\":\"SampFrac\", \"ActivityStartDate\":\"SampleDate\", \"ActivityIdentifier\":\"SampleId\", \n",
    "                \"ActivityStartTime/Time\":\"SampleTime\", \"ActivityMediaSubdivisionName\":\"SampMedia\", \n",
    "                \"SampleCollectionMethod/MethodIdentifier\":\"SampMeth\", \"SampleCollectionMethod/MethodName\":\"SampMethName\", \n",
    "                \"ActivityTypeCode\":\"SampType\", \"MonitoringLocationIdentifier\":\"StationId\", \n",
    "                \"ResultMeasure/MeasureUnitCode\":\"Unit\", \"USGSPCode\":\"USGSPCode\",\n",
    "                \"ActivityStartDate_ActivityStartTime/Time\":\"SampleDate\"} "
   ]
  },
  {
   "cell_type": "code",
   "execution_count": 90,
   "metadata": {
    "collapsed": false
   },
   "outputs": [],
   "source": [
    "res.rename(columns=ResFieldDict,inplace=True)"
   ]
  },
  {
   "cell_type": "code",
   "execution_count": 91,
   "metadata": {
    "collapsed": true
   },
   "outputs": [],
   "source": [
    "resdroplist = [\"ActivityBottomDepthHeightMeasure/MeasureUnitCode\", \"ActivityBottomDepthHeightMeasure/MeasureValue\", \n",
    "               \"ActivityConductingOrganizationText\", \"ActivityEndDate\", \"ActivityEndTime/Time\", \n",
    "               \"ActivityEndTime/TimeZoneCode\", \"ActivityMediaName\", \"ActivityStartTime/TimeZoneCode\", \n",
    "               \"ActivityTopDepthHeightMeasure/MeasureUnitCode\", \"ActivityTopDepthHeightMeasure/MeasureValue\", \n",
    "               \"HydrologicCondition\", \"HydrologicEvent\", \"PrecisionValue\", \"PreparationStartDate\", \"ProviderName\", \n",
    "               \"ResultAnalyticalMethod/MethodIdentifierContext\", \"ResultDepthAltitudeReferencePointText\", \n",
    "               \"ResultDepthHeightMeasure/MeasureUnitCode\", \"ResultDepthHeightMeasure/MeasureValue\", \n",
    "               \"ResultParticleSizeBasisText\", \"ResultTemperatureBasisText\", \n",
    "               \"ResultTimeBasisText\", \"ResultValueTypeName\", \"ResultWeightBasisText\", \"SampleAquifer\", \n",
    "               \"SampleCollectionMethod/MethodIdentifierContext\", \"SampleTissueAnatomyName\", \"StatisticalBaseCode\", \n",
    "               \"SubjectTaxonomicName\"] "
   ]
  },
  {
   "cell_type": "code",
   "execution_count": 92,
   "metadata": {
    "collapsed": false
   },
   "outputs": [],
   "source": [
    "res.drop(resdroplist,inplace=True,axis=1)"
   ]
  },
  {
   "cell_type": "markdown",
   "metadata": {},
   "source": [
    "Convert string fields to values."
   ]
  },
  {
   "cell_type": "code",
   "execution_count": 93,
   "metadata": {
    "collapsed": false
   },
   "outputs": [],
   "source": [
    "res['ResultValue'] = res['ResultValue'].convert_objects(convert_numeric=True)\n",
    "res['MDL'] = res['MDL'].convert_objects(convert_numeric=True)"
   ]
  },
  {
   "cell_type": "markdown",
   "metadata": {},
   "source": [
    "Remove `_WQX` suffix from `StationID`."
   ]
  },
  {
   "cell_type": "code",
   "execution_count": 94,
   "metadata": {
    "collapsed": true
   },
   "outputs": [],
   "source": [
    "res['StationId'] = res['StationId'].str.replace('_WQX-','-')"
   ]
  },
  {
   "cell_type": "markdown",
   "metadata": {},
   "source": [
    "###Station Data"
   ]
  },
  {
   "cell_type": "code",
   "execution_count": 95,
   "metadata": {
    "collapsed": true
   },
   "outputs": [],
   "source": [
    "station = rootname + \"WQP\\\\Station.csv\""
   ]
  },
  {
   "cell_type": "code",
   "execution_count": 96,
   "metadata": {
    "collapsed": false
   },
   "outputs": [],
   "source": [
    "stat = pd.read_csv(station)"
   ]
  },
  {
   "cell_type": "markdown",
   "metadata": {},
   "source": [
    "Map Fields to Standard UGS database format."
   ]
  },
  {
   "cell_type": "code",
   "execution_count": 97,
   "metadata": {
    "collapsed": true
   },
   "outputs": [],
   "source": [
    "StatFieldDict = {\"MonitoringLocationIdentifier\":\"StationId\", \"AquiferName\":\"Aquifer\", \"AquiferTypeName\":\"AquiferType\", \n",
    "             \"ConstructionDateText\":\"ConstDate\", \"CountyCode\":\"CountyCode\", \"WellDepthMeasure/MeasureValue\":\"Depth\", \n",
    "             \"WellDepthMeasure/MeasureUnitCode\":\"DepthUnit\", \"VerticalMeasure/MeasureValue\":\"Elev\", \n",
    "             \"VerticalAccuracyMeasure/MeasureValue\":\"ElevAcc\", \"VerticalAccuracyMeasure/MeasureUnitCode\":\"ElevAccUnit\", \n",
    "             \"VerticalCollectionMethodName\":\"ElevMeth\", \"VerticalCoordinateReferenceSystemDatumName\":\"ElevRef\", \n",
    "             \"VerticalMeasure/MeasureUnitCode\":\"ElevUnit\", \"FormationTypeText\":\"FmType\", \n",
    "             \"WellHoleDepthMeasure/MeasureValue\":\"HoleDepth\", \"WellHoleDepthMeasure/MeasureUnitCode\":\"HoleDUnit\", \n",
    "             \"HorizontalAccuracyMeasure/MeasureValue\":\"HorAcc\", \"HorizontalAccuracyMeasure/MeasureUnitCode\":\"HorAccUnit\", \n",
    "             \"HorizontalCollectionMethodName\":\"HorCollMeth\", \"HorizontalCoordinateReferenceSystemDatumName\":\"HorRef\", \n",
    "             \"HUCEightDigitCode\":\"HUC8\", \"LatitudeMeasure\":\"Lat_Y\", \"LongitudeMeasure\":\"Lon_X\", \n",
    "             \"OrganizationIdentifier\":\"OrgId\", \"OrganizationFormalName\":\"OrgName\", \"StateCode\":\"StateCode\", \n",
    "             \"MonitoringLocationDescriptionText\":\"StationComment\", \"MonitoringLocationName\":\"StationName\", \n",
    "             \"MonitoringLocationTypeName\":\"StationType\"} "
   ]
  },
  {
   "cell_type": "code",
   "execution_count": 98,
   "metadata": {
    "collapsed": false
   },
   "outputs": [],
   "source": [
    "stat.rename(columns=StatFieldDict,inplace=True)"
   ]
  },
  {
   "cell_type": "markdown",
   "metadata": {},
   "source": [
    "Drop leftover fields."
   ]
  },
  {
   "cell_type": "code",
   "execution_count": 99,
   "metadata": {
    "collapsed": true
   },
   "outputs": [],
   "source": [
    "statdroplist = [\"ContributingDrainageAreaMeasure/MeasureUnitCode\", \"ContributingDrainageAreaMeasure/MeasureValue\", \n",
    "                \"DrainageAreaMeasure/MeasureUnitCode\", \"DrainageAreaMeasure/MeasureValue\", \"CountryCode\", \"ProviderName\", \n",
    "                \"SourceMapScaleNumeric\"]"
   ]
  },
  {
   "cell_type": "code",
   "execution_count": 100,
   "metadata": {
    "collapsed": true
   },
   "outputs": [],
   "source": [
    "stat.drop(statdroplist,inplace=True,axis=1)"
   ]
  },
  {
   "cell_type": "markdown",
   "metadata": {},
   "source": [
    "Remove `_WQX` suffix from `StationID` and take out duplicate stations."
   ]
  },
  {
   "cell_type": "code",
   "execution_count": 101,
   "metadata": {
    "collapsed": false
   },
   "outputs": [],
   "source": [
    "stat['StationId'] = stat['StationId'].str.replace('_WQX-','-')\n",
    "stat.drop_duplicates(subset=['StationId'],inplace=True)"
   ]
  },
  {
   "cell_type": "markdown",
   "metadata": {},
   "source": [
    "##Combine Data"
   ]
  },
  {
   "cell_type": "markdown",
   "metadata": {},
   "source": [
    "Append Results Data Together"
   ]
  },
  {
   "cell_type": "code",
   "execution_count": 102,
   "metadata": {
    "collapsed": false
   },
   "outputs": [],
   "source": [
    "results = pd.concat([res,dogmr])"
   ]
  },
  {
   "cell_type": "code",
   "execution_count": 103,
   "metadata": {
    "collapsed": false
   },
   "outputs": [],
   "source": [
    "del(res,dogmr)"
   ]
  },
  {
   "cell_type": "code",
   "execution_count": 104,
   "metadata": {
    "collapsed": false
   },
   "outputs": [],
   "source": [
    "ParAbb = {\"Alkalinity\":\"Alk\", \"Alkalinity, Carbonate as CaCO3\":\"Alk\", \"Alkalinity, total\":\"Alk\", \n",
    "          \"Arsenic\":\"As\", \"Calcium\":\"Ca\", \"Chloride\":\"Cl\", \"Carbon dioxide\":\"CO2\", \"Carbonate\":\"CO3\", \n",
    "          \"Carbonate (CO3)\":\"CO3\", \"Specific conductance\":\"Cond\", \"Conductivity\":\"Cond\", \"Copper\":\"Cu\", \n",
    "          \"Depth\":\"Depth\", \"Dissolved oxygen (DO)\":\"DO\", \"Iron\":\"Fe\", \n",
    "          \"Hardness, Ca, Mg\":\"Hard\", \"Total hardness -- SDWA NPDWR\":\"Hard\", \n",
    "          \"Bicarbonate\":\"HCO3\", \"Potassium\":\"K\", \"Magnesium\":\"Mg\", \"Kjeldahl nitrogen\":\"N\", \n",
    "          \"Nitrogen, mixed forms (NH3), (NH4), organic, (NO2) and (NO3)\":\"N\", \"Nitrogen\":\"N\", \"Sodium\":\"Na\", \n",
    "          \"Sodium plus potassium\":\"NaK\", \"Ammonia-nitrogen\":\"NH3_N\", \"Ammonia-nitrogen as N\":\"N\", \"Nitrite\":\"NO2\", \n",
    "          \"Nitrate\":\"NO3\", \"Nitrate as N\":\"N\", \"pH, lab\":\"pH\", \"pH\":\"pH\",  \"Phosphate-phosphorus\":\"PO4\", \n",
    "          \"Orthophosphate\":\"PO4\", \"Phosphate\":\"PO4\", \"Stream flow, instantaneous\":\"Q\", \"Flow\":\"Q\", \n",
    "          \"Flow rate, instantaneous\":\"Q\", \"Silica\":\"Si\", \"Sulfate\":\"SO4\", \"Sulfate as SO4\":\"SO4\", \n",
    "          \"Total dissolved solids\":\"TDS\", \"Temperature, water\":\"Temp\", \n",
    "          \"Total suspended solids\":\"TSS\", \"Turbidity\":\"Turb\"}"
   ]
  },
  {
   "cell_type": "code",
   "execution_count": 105,
   "metadata": {
    "collapsed": true
   },
   "outputs": [],
   "source": [
    "ParUnAbb = {'Alk':u'mg/L', 'As':u'\\u03BCg/L', 'Ca':u'mg/L', 'Cl':u'mg/L', 'CO2':u'mg/L', 'CO3':u'mg/L', 'Cond':u'\\u03BChoms/cm',\n",
    "           'Cu':u'\\u03BCg/L', 'DO':u'mg/L', 'Hard':u'mg/L', 'HCO3':u'mg/L', 'K':u'mg/L', 'Mg':u'mg/L', 'N':u'mg/L', 'pH':u'', \n",
    "            'Q':u'gpm', 'Fe':u'\\u03BCg/L', 'TDS':u'mg/L', 'Si':u'mg/L', 'SO4':u'mg/L', 'Temp':u'\\N{DEGREE SIGN}C', 'PO4':u'mg/L', 'TSS':u'mg/L',\n",
    "           'Turb':u'Turb. Units', 'Na':u'mg/L', 'NaK':u'mg/L', 'NO3':u'mg/L', 'NH3':u'mg/L', 'NO2':u'mg/L', 'NH3_N':u'mg/L'}"
   ]
  },
  {
   "cell_type": "code",
   "execution_count": 106,
   "metadata": {
    "collapsed": false
   },
   "outputs": [],
   "source": [
    "results['ParAbb'] = results['Param'].apply(lambda x: ParAbb.get(x),1)"
   ]
  },
  {
   "cell_type": "code",
   "execution_count": 107,
   "metadata": {
    "collapsed": false
   },
   "outputs": [],
   "source": [
    "del results['USGSPCode']"
   ]
  },
  {
   "cell_type": "code",
   "execution_count": 108,
   "metadata": {
    "collapsed": false
   },
   "outputs": [
    {
     "data": {
      "text/plain": [
       "Index([u'AnalysisDate', u'AnalytMeth', u'AnalytMethId', u'DetectCond',\n",
       "       u'LabComments', u'LabName', u'LimitType', u'MDL', u'MDLUnit',\n",
       "       u'MethodDescript', u'OrgId', u'OrgName', u'Param', u'ProjectId',\n",
       "       u'QualCode', u'ResultComment', u'ResultStatus', u'ResultValue',\n",
       "       u'SampComment', u'SampDepth', u'SampDepthRef', u'SampDepthU',\n",
       "       u'SampEquip', u'SampFrac', u'SampMedia', u'SampMeth', u'SampMethName',\n",
       "       u'SampType', u'SampleDate', u'SampleId', u'StationId', u'Unit',\n",
       "       u'ParAbb'],\n",
       "      dtype='object')"
      ]
     },
     "execution_count": 108,
     "metadata": {},
     "output_type": "execute_result"
    }
   ],
   "source": [
    "results.columns"
   ]
  },
  {
   "cell_type": "code",
   "execution_count": 181,
   "metadata": {
    "collapsed": false
   },
   "outputs": [],
   "source": [
    "def dateparseclean(x):\n",
    "    try:\n",
    "        if 'nan' in x:\n",
    "            x = str(x).replace(' nan','')\n",
    "            return datetime.datetime.strptime(x, '%Y-%m-%d').date()\n",
    "        else:\n",
    "            try:\n",
    "                return datetime.datetime.strptime(x, '%Y-%m-%d %H:%M:%S').date()\n",
    "            except(ValueError):\n",
    "                print('damn')\n",
    "                return np.nan\n",
    "    except(TypeError):\n",
    "        try:\n",
    "            return x.date()\n",
    "        except(AttributeError):\n",
    "            return x"
   ]
  },
  {
   "cell_type": "code",
   "execution_count": 182,
   "metadata": {
    "collapsed": false
   },
   "outputs": [],
   "source": [
    "results['SampleDate'] = results['SampleDate'].apply(lambda x: dateparseclean(x))"
   ]
  },
  {
   "cell_type": "code",
   "execution_count": 231,
   "metadata": {
    "collapsed": false
   },
   "outputs": [
    {
     "data": {
      "text/plain": [
       "Index([u'index', u'AnalysisDate', u'AnalytMeth', u'AnalytMethId',\n",
       "       u'DetectCond', u'LabComments', u'LabName', u'LimitType', u'MDL',\n",
       "       u'MDLUnit', u'MethodDescript', u'OrgId', u'OrgName', u'Param',\n",
       "       u'ProjectId', u'QualCode', u'ResultComment', u'ResultStatus',\n",
       "       u'ResultValue', u'SampComment', u'SampDepth', u'SampDepthRef',\n",
       "       u'SampDepthU', u'SampEquip', u'SampFrac', u'SampMedia', u'SampMeth',\n",
       "       u'SampMethName', u'SampType', u'SampleDate', u'SampleId', u'StationId',\n",
       "       u'Unit', u'ParAbb'],\n",
       "      dtype='object')"
      ]
     },
     "execution_count": 231,
     "metadata": {},
     "output_type": "execute_result"
    }
   ],
   "source": [
    "results.columns"
   ]
  },
  {
   "cell_type": "code",
   "execution_count": 230,
   "metadata": {
    "collapsed": true
   },
   "outputs": [],
   "source": [
    "def flowconv(x):\n",
    "    x[1] = str(x[1]).rstrip().lower()\n",
    "    if x[1] in ['mgd']:\n",
    "        return x[0]*1.8581441079\n",
    "    elif x[1] in ['gallons per minute','gpm','g/min','gal/min']:\n",
    "        return x[0]*0.00222800926\n",
    "    elif x[1] in ['gpd']:\n",
    "        return x[0]*1.54722865E-6\n",
    "    elif x[1] in ['ft3/sec', 'cfs','ft3/s']:\n",
    "        return x[0]\n",
    "    elif x[1] in ['cfm']:\n",
    "        return x[0]*0.0166667\n",
    "    else:\n",
    "        return x[0]\n",
    "    \n",
    "def unitconv(x):\n",
    "    z = str(x).rstrip().lower()\n",
    "    if z in ['mgd','gpm','gpd','cfs','ft3/sec','gallons per min','g/min','gal/min','cfm','ft3/s']:\n",
    "        return 'cfs'\n",
    "    else:\n",
    "        return x"
   ]
  },
  {
   "cell_type": "code",
   "execution_count": 215,
   "metadata": {
    "collapsed": true
   },
   "outputs": [],
   "source": [
    "results['ResultValue'] = results[['ResultValue','Unit']].apply(lambda x: flowconv(x))"
   ]
  },
  {
   "cell_type": "code",
   "execution_count": 216,
   "metadata": {
    "collapsed": true
   },
   "outputs": [],
   "source": [
    "results['Unit'] = results['Unit'].apply(lambda x: unitconv(x))"
   ]
  },
  {
   "cell_type": "code",
   "execution_count": 134,
   "metadata": {
    "collapsed": true
   },
   "outputs": [],
   "source": [
    "#results.to_csv(rootname+\"AllResults.csv\", chunksize=10000)"
   ]
  },
  {
   "cell_type": "code",
   "execution_count": 169,
   "metadata": {
    "collapsed": true
   },
   "outputs": [],
   "source": [
    "def condfix(x):\n",
    "    if x[1]=='Cond':\n",
    "        if str(x[2]).rstrip().lower() == 'ms/cm':\n",
    "            return x[0]/1000\n",
    "        else:\n",
    "            return x[0]\n",
    "    else:\n",
    "        return x[0]\n",
    "    \n",
    "def condunitfix(x):\n",
    "    if x[1]=='Cond':\n",
    "        if str(x[0]).rstrip().lower() == 'ms/cm':\n",
    "            return 'uS/cm'\n",
    "        else:\n",
    "            return 'uS/cm'\n",
    "    else:\n",
    "        return x[0]\n",
    "\n",
    "def pHfix(x):\n",
    "    if x[1] == 'pH':\n",
    "        if x[0] == 0.0:\n",
    "            return np.nan\n",
    "        elif x[0] >= 14.0:\n",
    "            return np.nan\n",
    "        else:\n",
    "            return x[0]\n",
    "    else:\n",
    "        return x[0]"
   ]
  },
  {
   "cell_type": "code",
   "execution_count": 170,
   "metadata": {
    "collapsed": false
   },
   "outputs": [],
   "source": [
    "results['ResultValue'] = results[['ResultValue','ParAbb','Unit']].apply(lambda x: condfix(x),1)"
   ]
  },
  {
   "cell_type": "code",
   "execution_count": 171,
   "metadata": {
    "collapsed": true
   },
   "outputs": [],
   "source": [
    "results['Unit'] = results[['Unit','ParAbb']].apply(lambda x: condunitfix(x),1)"
   ]
  },
  {
   "cell_type": "code",
   "execution_count": 172,
   "metadata": {
    "collapsed": true
   },
   "outputs": [],
   "source": [
    "results['ResultValue'] = results[['ResultValue','ParAbb']].apply(lambda x: pHfix(x),1)"
   ]
  },
  {
   "cell_type": "markdown",
   "metadata": {},
   "source": [
    "##Stations"
   ]
  },
  {
   "cell_type": "code",
   "execution_count": 271,
   "metadata": {
    "collapsed": false
   },
   "outputs": [],
   "source": [
    "#dogms.set_index(['StationId'],inplace=True)\n",
    "station = pd.concat([stat,dogms])\n",
    "station.set_index(['StationId'],inplace=True)"
   ]
  },
  {
   "cell_type": "code",
   "execution_count": 272,
   "metadata": {
    "collapsed": true
   },
   "outputs": [],
   "source": [
    "station[\"index\"] = station.index\n",
    "station.drop_duplicates(subset='index', take_last=True, inplace=True)\n",
    "del station[\"index\"]"
   ]
  },
  {
   "cell_type": "code",
   "execution_count": 273,
   "metadata": {
    "collapsed": true
   },
   "outputs": [],
   "source": [
    "stattype = {\"Stream: Ditch\":\"Stream\", \"Stream\":\"Stream\", \"Well\":\"Well\", \"Spring\":\"Spring\", \n",
    "            \"Stream: Canal\":\"Stream\", \"Subsurface: Tunnel, shaft, or mine\":\"Mine Drain\", \n",
    "            \"Well: Test hole not completed as a well\":\"Well\", \"Subsurface: Groundwater drain\":\"Mine Drain\", \n",
    "            \"Lake, Reservoir, Impoundment\":\"Lake\", \"River/Stream\":\"Stream\", \"Lake\":\"Lake\", \"Facility Other\":\"Other\", \n",
    "            \"Canal Drainage\":\"Stream\", \"Canal Irrigation\":\"Stream\", \"MD\":\"Mine Drain\", \"SW\":\"Stream\", \"GW\":\"Well\", \n",
    "            \"SP\":\"Spring\", \"UPDES Permit discharge point\":\"Mine Drain\", \"Lake; Sediment Pond; Stagnant water\":\"Lake\", \n",
    "            \"Other\":\"Other\", \"CG-2\":\"Other\"}\n"
   ]
  },
  {
   "cell_type": "code",
   "execution_count": 274,
   "metadata": {
    "collapsed": false
   },
   "outputs": [],
   "source": [
    "station['StationType'] = station['StationType'].apply(lambda x: stattype.get(x),1)"
   ]
  },
  {
   "cell_type": "code",
   "execution_count": 275,
   "metadata": {
    "collapsed": true
   },
   "outputs": [],
   "source": [
    "fmdict = {\"Blackhawk Formation of Mesaverde Group\":4, \"Castlegate Sandstone of Mesaverde Group\":5, \n",
    "          \"Ferron Sandstone Member of Mancos Shale\":2, \"Flagstaff Limestone (Eocene-Paleocene)\":8, \n",
    "          \"Green River Formation\":10, \"Mancos Shale\":1, \"North Horn Formation (Paleocene-Upper Cretaceous)\":7,\n",
    "          \"Paleozoic Erathem\":0, \"Price River Formation of Mesaverde Group\":6,\n",
    "          \"Star Point Sandstone of Mesaverde Group\":3, \"Valley Fill\":9}"
   ]
  },
  {
   "cell_type": "code",
   "execution_count": 276,
   "metadata": {
    "collapsed": true
   },
   "outputs": [],
   "source": [
    "station['FmNum'] = station['FmType'].apply(lambda x: fmdict.get(x),1)"
   ]
  },
  {
   "cell_type": "markdown",
   "metadata": {},
   "source": [
    "#Merge Station Duplicates"
   ]
  },
  {
   "cell_type": "code",
   "execution_count": 277,
   "metadata": {
    "collapsed": true
   },
   "outputs": [],
   "source": [
    "switchStat =   {'UDOGM-02-11435':'UDOGM-03-9248', 'UDOGM-19-11903':'UDOGM-10-0037', \n",
    "                'UDOGM-19-11904':'UDOGM-10-0038', 'UDOGM-41-11816':'UDOGM-41-11817', 'UDOGM-24-10581':'UDOGM-24-10579', \n",
    "                'UDOGM-24-10497':'UDOGM-24-10501', 'UDOGM-24-10502':'UDOGM-24-10503',\n",
    "                'UDOGM-02-11451':'UDOGM-03-9300', 'UDOGM-03-0016':'UDOGM-03-9300', 'UDOGM-02-11435':'UDOGM-03-9248', \n",
    "                'UDOGM-02-11787':'UDOGM-03-9405', 'UDOGM-03-9373':'UDOGM-02-11774', 'UDOGM-02-11777':'UDOGM-03-9384', \n",
    "                'UDOGM-02-11782':'UDOGM-03-9397', 'UDOGM-02-11786':'UDOGM-03-9404', 'UDOGM-02-11777':'UDOGM-03-9384', \n",
    "                'UDOGM-02-11775':'UDOGM-03-9374', 'UDOGM-02-11778':'UDOGM-03-9385', 'UDOGM-02-11772':'UDOGM-03-9371',\n",
    "                'UDOGM-02-11691':'UDOGM-03-9348', 'UDOGM-02-11780':'UDOGM-03-9389', 'UDOGM-02-11785':'UDOGM-03-9400', \n",
    "                'UDOGM-02-11596':'UDOGM-03-9325', 'UDOGM-02-11788':'UDOGM-03-9409', 'UDOGM-24-10546':'USGS-385049111153101',\n",
    "                'UDOGM-24-10545':'USGS-385045111171801', 'UDOGM-24-10578':'UDOGM-24-0055',\n",
    "                'UDOGM-24-10579':'UDOGM-24-10581', 'UDOGM-24-10547':'USGS-385155111141801',\n",
    "                'UDOGM-24-10492':'USGS-385209111171801', 'UDOGM-24-0019':'USGS-385224111142602',\n",
    "                'UDOGM-24-10526':'USGS-385233111130301', 'UDOGM-24-10466':'USGS-385232111172701',\n",
    "                'UDOGM-24-10528':'USGS-385249111130901', 'UDOGM-24-10474':'USGS-385249111132301',  \n",
    "                'UDOGM-24-10543':'USGS-385300111153701', 'UDOGM-24-10529':'USGS-385303111131301',\n",
    "                'UDOGM-24-10502':'UDOGM-24-10503', 'UDOGM-24-10473':'USGS-385400111122901',\n",
    "                'UDOGM-24-10485':'USGS-385427111161201', 'UDOGM-24-10544':'USGS 385426111160801',\n",
    "                'UDOGM-24-10484':'USGS 385554111152102', 'UDOGM-02-11766':'UDOGM-03-9361',\n",
    "                'UDOGM-02-11450':'USGS-391751111130201', 'UDOGM-03-9292':'USGS-391751111130201',\n",
    "                'UDOGM-02-11690':'UDOGM-03-9347', 'UDOGM-02-11597':'UDOGM-03-9326',\n",
    "                'UDOGM-02-11449':'UDOGM-03-9291', 'UDOGM-02-11598':'UDOGM-03-9327',\n",
    "                'UDOGM-02-11689':'UDOGM-03-9346', 'UDOGM-02-11599':'UDOGM-03-9328',\n",
    "                'UDOGM-02-11457':'UDOGM-03-9312', 'UDOGM-02-11784':'UDOGM-03-9399',\n",
    "                'UDOGM-02-11444':'UDOGM-03-9272', 'UDOGM-02-11456':'UDOGM-03-9310',\n",
    "                'UDOGM-02-11443':'UDOGM-03-0060', 'UDOGM-02-11783':'UDOGM-03-9398',\n",
    "                'UDOGM-02-11770':'UDOGM-03-9369', 'UDOGM-02-11453':'UDOGM-03-9307',\n",
    "                'UDOGM-02-0004':'UTAHDWQ-4931020', 'UDOGM-02-11768':'UDOGM-03-9363',\n",
    "                'UDOGM-02-11454':'UDOGM-03-9308', 'UDOGM-02-0006':'UTAHDWQ-4930730',\n",
    "                'UDOGM-02-11630':'UDOGM-03-9330', 'UDOGM-02-11682':'UDOGM-03-9344',\n",
    "                'UDOGM-02-11634':'UDOGM-03-9333', 'UDOGM-02-11439':'UDOGM-03-0058',\n",
    "                'UDOGM-02-11440':'UDOGM-03-0059', 'UDOGM-02-11571':'UDOGM-03-9324',\n",
    "                'UDOGM-03-9356':'UDOGM-03-9355', 'UDOGM-02-11769':'UDOGM-9366',\n",
    "                'UDOGM-02-11633':'UDOGM-03-9332', 'UDOGM-02-11644':'UDOGM-03-9336',\n",
    "                'UDOGM-02-11479':'UDOGM-04-0019', 'UDOGM-02-11536':'UDOGM-03-9322',\n",
    "                'UDOGM-02-11535':'UDOGM-03-9321', 'UDOGM-02-11662':'UDOGM-03-9340',\n",
    "                'UDOGM-02-11466':'UDOGM-03-9314', 'UDOGM-02-11674':'UDOGM-03-9343',\n",
    "                'UDOGM-02-11632':'UDOGM-03-9331', 'UDOGM-02-11437':'UDOGM-03-9255',\n",
    "                'UDOGM-02-11669':'UDOGM-03-9341', 'UDOGM-02-11478':'UDOGM-03-9315',\n",
    "                'UDOGM-02-11483':'UDOGM-03-9317', 'UDOGM-02-11438':'UDOGM-03-9256',\n",
    "                'UDOGM-02-11484':'UDOGM-03-9318', 'UDOGM-02-11648':'UDOGM-03-9339',\n",
    "                'UDOGM-02-11767':'UDOGM-03-9362', 'UDOGM-02-11673':'UDOGM-03-9342',\n",
    "                'UDOGM-02-11537':'UDOGM-03-9323', 'UDOGM-02-11569':'USGS-392210111094401',\n",
    "                'UDOGM-04-0011':'USGS-392210111094401', 'UDOGM-02-11518':'UDOGM-04-0037',\n",
    "                'UDOGM-02-11609':'UDOGM-04-10812', 'UDOGM-02-11659':'UDOGM-04-0067',\n",
    "                'UDOGM-02-11610':'UDOGM-04-10813', 'UDOGM-04-11192':'UDOGM-02-11757',\n",
    "                'UDOGM-04-11158':'UDOGM-04-0203', 'UDOGM-04-11171':'UDOGM-04-0205',\n",
    "                'UDOGM-04-11170':'UDOGM-04-0204', 'UDOGM-04-10817':'UDOGM-02-11616',\n",
    "                'UDOGM-02-11702':'UDOGM-04-10870', 'UDOGM-04-11174':'UDOGM-04-0234',\n",
    "                'UDOGM-04-10869':'UDOGM-02-11667', 'UDOGM-04-10818':'UDOGM-02-11618',\n",
    "                'UDOGM-04-10820':'UDOGM-02-11620', 'UDOGM-04-10866':'UDOGM-02-11663',\n",
    "                'UDOGM-04-10874':'UDOGM-04-10873', 'UDOGM-04-11194':'UDOGM-04-0164',\n",
    "                'UDOGM-04-11172':'UDOGM-04-0206', 'UDOGM-04-11176':'UDOGM-04-0208',\n",
    "                'UDOGM-02-11661':'UDOGM-04-10865', 'UDOGM-02-11665':'UDOGM-04-10868',\n",
    "                'UDOGM-06-0004':'UDOGM-05-0080', 'UDOGM-02-11660':'UDOGM-04-10864',\n",
    "                'UDOGM-04-11178':'UDOGM-04-0210', 'UDOGM-04-11180':'UDOGM-04-0212',\n",
    "                'UDOGM-04-11148':'UDOGM-04-11114', 'UDOGM-04-11181':'UDOGM-04-11147',\n",
    "                'UDOGM-04-11191':'UDOGM-02-11756', 'UDOGM-04-11149':'UDOGM-04-0214',\n",
    "                'UDOGM-04-11163':'UDOGM-04-0227', 'UDOGM-04-11162':'UDOGM-04-0226',\n",
    "                'UDOGM-04-11165':'UDOGM-04-11131', 'UDOGM-04-11150':'UDOGM-04-0215',\n",
    "                'UDOGM-04-11164':'UDOGM-04-0228', 'UDOGM-02-11605':'UDOGM-04-10810',\n",
    "                'UDOGM-04-11159':'UDOGM-04-0223', 'UDOGM-04-11166':'UDOGM-04-0229',\n",
    "                'UDOGM-04-11161':'UDOGM-04-0225', 'UDOGM-04-11160':'UDOGM-04-0224',\n",
    "                'UDOGM-04-11157':'UDOGM-04-0222', 'UDOGM-04-11155':'UDOGM-04-0220',\n",
    "                'UDOGM-04-11154':'UDOGM-04-0219', 'UDOGM-04-11152':'UDOGM-04-0217',\n",
    "                'UDOGM-04-11167':'UDOGM-04-0230', 'UDOGM-04-11363':'UDOGM-04-11333',\n",
    "                'UDOGM-04-11153':'UDOGM-04-0218', 'UDOGM-04-11046':'UDOGM-04-11002',\n",
    "                'UDOGM-04-11151':'UDOGM-04-11151', 'UDOGM-04-11156':'UDOGM-04-0221',\n",
    "                'UDOGM-04-11044':'UDOGM-04-11000', 'UDOGM-04-11045':'UDOGM-04-11001',\n",
    "                'UDOGM-02-11542':'UDOGM-04-10776', 'UDOGM-04-11348':'UDOGM-04-11318',\n",
    "                'UDOGM-02-11554':'UDOGM-04-10783', 'UDOGM-02-11563':'UDOGM-04-10793',\n",
    "                'UDOGM-04-11342':'UDOGM-04-11312', 'UDOGM-04-11177':'UDOGM-04-0209',\n",
    "                'UDOGM-02-11561':'UDOGM-04-10791', 'UDOGM-02-11558':'UDOGM-04-10788',\n",
    "                'UDOGM-04-11168':'UDOGM-04-0231', 'UDOGM-04-0266':'UDOGM-04-0265',\n",
    "                'UDOGM-04-11169':'UDOGM-04-0232', 'UDOGM-04-10784':'UDOGM-02-11555',\n",
    "                'UDOGM-04-11005':'UDOGM-04-0201', 'UDOGM-04-11179':'UDOGM-04-0211',\n",
    "                'UDOGM-04-11173':'UDOGM-04-0233', 'UDOGM-04-10823':'UDOGM-02-11626',\n",
    "                'UDOGM-04-11058':'UDOGM-04-11012', 'UDOGM-04-10789':'UDOGM-02-11559',\n",
    "                'UDOGM-04-11057':'UDOGM-04-11011', 'UDOGM-04-11055':'UDOGM-04-11009',\n",
    "                'UDOGM-04-11054':'UDOGM-04-11008', 'UDOGM-04-11006':'UDOGM-04-0202',\n",
    "                'UDOGM-04-11056':'UDOGM-04-11010', 'UDOGM-02-11541':'UDOGM-04-10775',\n",
    "                'UDOGM-04-10785':'UDOGM-02-11556', 'UDOGM-04-11053':'UDOGM-04-11007',\n",
    "                'UDOGM-04-11004':'UDOGM-04-0193', 'UDOGM-04-10822':'UDOGM-02-11625',\n",
    "                'UDOGM-02-11714':'UDOGM-04-10882', 'UDOGM-02-11722':'UDOGM-04-10974',\n",
    "                'UDOGM-04-10877':'UDOGM-02-11710', 'UDOGM-04-10973':'UDOGM-02-11720',\n",
    "                'UDOGM-04-10821':'UDOGM-02-11621', 'UDOGM-04-10972':'UDOGM-02-11719',\n",
    "                'UDOGM-04-11349':'UDOGM-04-11319', 'UDOGM-02-11713':'UDOGM-04-10881',\n",
    "                'UDOGM-04-10971':'UDOGM-02-11718', 'UDOGM-04-10787':'UDOGM-02-11557',\n",
    "                'UDOGM-08-11384':'UDOGM-16-9768', 'UDOGM-08-11378':'UDOGM-08-11372',\n",
    "                'UDOGM-05-0032':'USGS-392644111061701', 'UDOGM-08-11379':'UDOGM-08-11373',\n",
    "                'UDOGM-08-11380':'UDOGM-08-11374', 'UDOGM-04-10953':'UDOGM-08-11374',\n",
    "                'UDOGM-08-11381':'UDOGM-08-11375', 'UDOGM-08-11382':'UDOGM-08-11376',\n",
    "                'UDOGM-04-11299':'UDOGM-08-11416', 'UDOGM-23-10374':'USGS-392750111050401',\n",
    "                'UDOGM-08-0039':'UDOGM-04-11197', 'UDOGM-23-10371':'USGS-392818111064801',\n",
    "                'UDOGM-23-10370':'USGS-392834111063001', 'UDOGM-16-9752':'UDOGM-16-0056', \n",
    "                'UDOGM-08-0025':'USGS-392917111131601', 'UDOGM-16-0035':'USGS-393151111041301', \n",
    "                'UDOGM-16-0036':'USGS-393154111041401', 'UDOGM-16-0025':'USGS-393148111044001', \n",
    "                'UDOGM-16-9766':'USGS-393247111065501', 'UDOGM-16-9767':'USGS-393247111065501', \n",
    "                'UDOGM-16-9760':'UDOGM-16-9761', 'UDOGM-35-9133':'UDOGM-35-9131', \n",
    "                'UDOGM-21-0026':'UDOGM-22-0009', 'UDOGM-21-0037':'UTAHDWQ-4933070', 'UDOGM-22-0005':'UTAHDWQ-4933070',\n",
    "                'UDOGM-22-0023':'UTAHDWQ-5931590', 'UDOGM-21-0039':'UTAHDWQ-5931590',\n",
    "                'UDOGM-21-0015':'UDOGM-22-0022', 'UDOGM-21-0005':'USGS-394103111091602',\n",
    "                'UDOGM-29-10699':'UDOGM-29-0016', 'UDOGM-15-0025':'UDOGM-10-0025',\n",
    "                'UDOGM-42-0020':'USGS-394424111090501', 'UTAHDWQ-5931500':'USGS-394424111090501',\n",
    "                'UDOGM-10-0016':'UDOGM-15-0023', 'UDOGM-15-0031':'UDOGM-10-0006',\n",
    "                'UDOGM-29-10583':'UDOGM-13-0008','UDOGM-29-10727':'UDOGM-13-0009',\n",
    "                'UDOGM-02-11472':'UDOGM-04-0014','UDOGM-02-11486':'UDOGM-03-9320',\n",
    "                'UDOGM-02-11485':'UDOGM-03-9319',\n",
    "                'UTAHDWQ-4931140':'USGS-391634111170001', 'UTAHDWQ-4955460':'USGS-384845111195101',\n",
    "                'UTAHDWQ-4955300':'USGS-09332100', 'UTAHDWQ-4955320':'USGS-384846111121701',\n",
    "                'UTAHDWQ-4955423':'USGS-385236111172901', 'UTAHDWQ-4955570':'USGS-385715111121601',\n",
    "                'UTAHDWQ-4930590':'USGS-392455111070000', 'USGS-391745111403101':'USGS-391750111402501'}\n",
    "\n",
    "def statget(x):\n",
    "    statMatch = list(switchStat.keys())\n",
    "    if x in statMatch:\n",
    "        return switchStat.get(x)\n",
    "    else:\n",
    "        return x"
   ]
  },
  {
   "cell_type": "code",
   "execution_count": 142,
   "metadata": {
    "collapsed": true
   },
   "outputs": [],
   "source": [
    "results['StationId'] = results['StationId'].apply(lambda x: statget(x))"
   ]
  },
  {
   "cell_type": "code",
   "execution_count": 278,
   "metadata": {
    "collapsed": false
   },
   "outputs": [],
   "source": [
    "station.reset_index(inplace=True)\n",
    "station['StationId'] = station['StationId'].apply(lambda x: statget(x))"
   ]
  },
  {
   "cell_type": "code",
   "execution_count": 279,
   "metadata": {
    "collapsed": true
   },
   "outputs": [],
   "source": [
    "station.reset_index(inplace=True)\n",
    "station.set_index(['StationId'],inplace=True)"
   ]
  },
  {
   "cell_type": "code",
   "execution_count": 144,
   "metadata": {
    "collapsed": false
   },
   "outputs": [],
   "source": [
    "results.reset_index(inplace=True)"
   ]
  },
  {
   "cell_type": "markdown",
   "metadata": {},
   "source": [
    "#Summarize and Plot Data"
   ]
  },
  {
   "cell_type": "code",
   "execution_count": 145,
   "metadata": {
    "collapsed": true
   },
   "outputs": [],
   "source": [
    "import matplotlib.pyplot as plt\n",
    "from pylab import rcParams, rc\n",
    "from matplotlib.backends.backend_pdf import PdfPages\n",
    "#from __future__ import unicode_literals\n",
    "%matplotlib inline\n",
    "rcParams['figure.figsize'] = 15, 10"
   ]
  },
  {
   "cell_type": "code",
   "execution_count": 253,
   "metadata": {
    "collapsed": false
   },
   "outputs": [],
   "source": [
    "durationsummary = results.groupby(['StationId','ParAbb'])['SampleDate'].agg([np.min,np.max,np.size]).reset_index()"
   ]
  },
  {
   "cell_type": "code",
   "execution_count": 239,
   "metadata": {
    "collapsed": false
   },
   "outputs": [
    {
     "name": "stdout",
     "output_type": "stream",
     "text": [
      "['StationId', 'ParAbb', 'amin', 'amax', 'size']\n"
     ]
    }
   ],
   "source": [
    "durationsummary.convert_objects(convert_numeric=True)\n",
    "print list(durationsummary.columns)\n",
    "durationsummary['amax'] =  durationsummary['amax'].apply(lambda x: str(x).replace('nan','00:00:00'),1)\n",
    "durationsummary['amin'] =  durationsummary['amin'].apply(lambda x: str(x).replace('nan','00:00:00'),1)\n",
    "durationsummary['duration'] = durationsummary['amax'].astype(np.datetime64) - durationsummary['amin'].astype(np.datetime64)"
   ]
  },
  {
   "cell_type": "code",
   "execution_count": 263,
   "metadata": {
    "collapsed": false,
    "scrolled": true
   },
   "outputs": [],
   "source": [
    "durationsummary.drop_duplicates(subset=['StationId'],inplace=True)\n",
    "LongFlow = durationsummary[(durationsummary['ParAbb']=='Q') & (durationsummary['size']>10)]"
   ]
  },
  {
   "cell_type": "code",
   "execution_count": 245,
   "metadata": {
    "collapsed": true
   },
   "outputs": [],
   "source": [
    "durationsummary.to_csv(rootname + \"fieldsummaries.csv\")"
   ]
  },
  {
   "cell_type": "code",
   "execution_count": 280,
   "metadata": {
    "collapsed": false
   },
   "outputs": [],
   "source": [
    "LongFlowList = list(LongFlow['StationId'])\n",
    "FlowRes = results[(results['StationId'].isin(LongFlowList)) & (results['ResultValue'] != np.nan)]"
   ]
  },
  {
   "cell_type": "code",
   "execution_count": 281,
   "metadata": {
    "collapsed": false
   },
   "outputs": [
    {
     "name": "stderr",
     "output_type": "stream",
     "text": [
      "C:\\Python27\\ArcGIS10.3\\lib\\site-packages\\IPython\\kernel\\__main__.py:1: SettingWithCopyWarning: \n",
      "A value is trying to be set on a copy of a slice from a DataFrame.\n",
      "Try using .loc[row_indexer,col_indexer] = value instead\n",
      "\n",
      "See the the caveats in the documentation: http://pandas.pydata.org/pandas-docs/stable/indexing.html#indexing-view-versus-copy\n",
      "  if __name__ == '__main__':\n",
      "C:\\Python27\\ArcGIS10.3\\lib\\site-packages\\IPython\\kernel\\__main__.py:4: SettingWithCopyWarning: \n",
      "A value is trying to be set on a copy of a slice from a DataFrame\n",
      "\n",
      "See the the caveats in the documentation: http://pandas.pydata.org/pandas-docs/stable/indexing.html#indexing-view-versus-copy\n",
      "C:\\Python27\\ArcGIS10.3\\lib\\site-packages\\IPython\\kernel\\__main__.py:5: SettingWithCopyWarning: \n",
      "A value is trying to be set on a copy of a slice from a DataFrame.\n",
      "Try using .loc[row_indexer,col_indexer] = value instead\n",
      "\n",
      "See the the caveats in the documentation: http://pandas.pydata.org/pandas-docs/stable/indexing.html#indexing-view-versus-copy\n",
      "C:\\Python27\\ArcGIS10.3\\lib\\site-packages\\IPython\\kernel\\__main__.py:6: SettingWithCopyWarning: \n",
      "A value is trying to be set on a copy of a slice from a DataFrame.\n",
      "Try using .loc[row_indexer,col_indexer] = value instead\n",
      "\n",
      "See the the caveats in the documentation: http://pandas.pydata.org/pandas-docs/stable/indexing.html#indexing-view-versus-copy\n"
     ]
    }
   ],
   "source": [
    "FlowRes['SampleDate'] = FlowRes.SampleDate.astype(np.datetime64)\n",
    "FlowRes.reset_index(inplace=True)\n",
    "FlowRes.set_index('SampleDate',inplace=True)\n",
    "FlowRes.sort_index(inplace=True)\n",
    "FlowRes['pyDate'] = FlowRes.index.to_pydatetime()\n",
    "FlowRes['JulDate'] = FlowRes.index.to_julian_date()\n",
    "\n",
    "\n",
    "Flow = pd.merge(FlowRes, station, left_on='StationId', right_index=True, how='left')\n"
   ]
  },
  {
   "cell_type": "code",
   "execution_count": 282,
   "metadata": {
    "collapsed": false
   },
   "outputs": [
    {
     "name": "stderr",
     "output_type": "stream",
     "text": [
      "C:\\Python27\\ArcGIS10.3\\lib\\site-packages\\IPython\\kernel\\__main__.py:12: SettingWithCopyWarning: \n",
      "A value is trying to be set on a copy of a slice from a DataFrame.\n",
      "Try using .loc[row_indexer,col_indexer] = value instead\n",
      "\n",
      "See the the caveats in the documentation: http://pandas.pydata.org/pandas-docs/stable/indexing.html#indexing-view-versus-copy\n"
     ]
    }
   ],
   "source": [
    "pdf = PdfPages(rootname+'flowres.pdf')\n",
    "\n",
    "xmax = np.max(Flow['pyDate'].values)\n",
    "xmin = np.min(Flow['pyDate'].values)\n",
    "\n",
    "from pylab import rcParams\n",
    "rcParams.update({'font.size': 10})\n",
    "\n",
    "for key, grp in Flow.groupby(['StationId']):\n",
    "    if np.max(grp['ResultValue'])>0:\n",
    "        # determine cubicft flowing for each time period\n",
    "        grp['CubicFt'] = grp['ResultValue'] * grp['JulDate'].diff()*60*60*24*2.29568411E-5 \n",
    "        y2 = grp['CubicFt'].cumsum().values\n",
    "        # filter out graphs smaller than 30 non-zero points\n",
    "        #if np.count_nonzero(grp['ResultValue']) > 30:\n",
    "        fig = plt.figure(figsize=(10,8))\n",
    "        title = str(str(grp['StationName'].values[0]) + ' ' + str(grp['StationType'].values[0]))\n",
    "        if title == \"nan nan\":\n",
    "            plt.title(key)\n",
    "        else:\n",
    "            plt.title(title)\n",
    "\n",
    "        ax = fig.add_subplot(111)\n",
    "        ax.plot(grp['pyDate'].values,grp['ResultValue'].values, label='Discharge', linestyle='-', marker='.', color='b')\n",
    "        ax.set_ylabel('Discharge (cfs)')\n",
    "        ax.set_xlabel('Date')\n",
    "        ax.set_xlim([xmin,xmax])\n",
    "\n",
    "        ax2 = ax.twinx()\n",
    "        ax2.plot(grp['pyDate'].values, y2, label='Cumulative Discharge', linestyle='--', color='g')\n",
    "        ax2.set_ylabel('Cumulative Discharge (ac-ft)')\n",
    "\n",
    "\n",
    "        # ask matplotlib for the plotted objects and their labels\n",
    "        lines, labels = ax.get_legend_handles_labels()\n",
    "        lines2, labels2 = ax2.get_legend_handles_labels()\n",
    "        ax2.legend(lines + lines2, labels + labels2, loc='upper left', bbox_to_anchor=(-0.10, 1.15))\n",
    "        ax2.set_xlim([xmin,xmax])\n",
    "        #plt.tight_layout()\n",
    "        pdf.savefig(fig)\n",
    "        plt.close()\n",
    "    \n",
    "\n",
    "\n",
    "d = pdf.infodict()\n",
    "d['Title'] = 'Discharge Data'\n",
    "d['Author'] = u'Paul Inkenbrandt'\n",
    "d['Subject'] = 'Discharge Data from Manti LaSal'\n",
    "d['Keywords'] = 'PdfPages multipage keywords author title subject'\n",
    "d['CreationDate'] = datetime.datetime.today()\n",
    "d['ModDate'] = datetime.datetime.today()\n",
    "pdf.close()"
   ]
  },
  {
   "cell_type": "markdown",
   "metadata": {},
   "source": [
    "#Pivot Data"
   ]
  },
  {
   "cell_type": "markdown",
   "metadata": {},
   "source": [
    "Drop rows from the `results` table that have null `SampleId` values or parameter abbreviations."
   ]
  },
  {
   "cell_type": "code",
   "execution_count": 286,
   "metadata": {
    "collapsed": false
   },
   "outputs": [],
   "source": [
    "results.dropna(subset=['SampleId','ParAbb'],how='any', inplace=True)"
   ]
  },
  {
   "cell_type": "markdown",
   "metadata": {},
   "source": [
    "Drop rows from the `results` table that have a detection condition (ex. \"not detected\").  This eliminates nondetects, which will inhereantly bias the data, as it is not considering values below the detection levels."
   ]
  },
  {
   "cell_type": "code",
   "execution_count": 287,
   "metadata": {
    "collapsed": false
   },
   "outputs": [],
   "source": [
    "results = results[pd.isnull(results['DetectCond'])]"
   ]
  },
  {
   "cell_type": "markdown",
   "metadata": {},
   "source": [
    "Drop rows from the `results` table that have duplicate `SampleId` values and parameters (chemical concentrations, field measurements). The `SampleId` field will be the index for the pivoted table.  Each row in the pivoted table will represent an individual water sample.  The `SampleId` is applied to each parameter that comes from the same water sample.  For example, if I go out to a stream and fill a water bottle and have that analyzed for 4 different parameters (i.e. calcium, magnesium, sodium, and chloride), then each result from the analysis of that water will have the same `SampleId`.  Sometimes we sample a station multiple times, so one `StationId` can have many `SampleId` values. "
   ]
  },
  {
   "cell_type": "code",
   "execution_count": 288,
   "metadata": {
    "collapsed": false
   },
   "outputs": [],
   "source": [
    "results.drop_duplicates(subset=['SampleId','ParAbb'],inplace=True)"
   ]
  },
  {
   "cell_type": "markdown",
   "metadata": {},
   "source": [
    "Select results that have more than 50 flow values to plot flow change over time.\n",
    "http://stackoverflow.com/questions/17926273/how-to-count-distinct-values-in-a-column-of-a-pandas-group-by-object"
   ]
  },
  {
   "cell_type": "code",
   "execution_count": null,
   "metadata": {
    "collapsed": true
   },
   "outputs": [],
   "source": []
  },
  {
   "cell_type": "markdown",
   "metadata": {},
   "source": [
    "Summarize All Fields by date and count"
   ]
  },
  {
   "cell_type": "markdown",
   "metadata": {},
   "source": [
    "Pivot the data so that parameters are now columns.  "
   ]
  },
  {
   "cell_type": "code",
   "execution_count": 289,
   "metadata": {
    "collapsed": false
   },
   "outputs": [],
   "source": [
    "datap = results.pivot(index='SampleId', columns='ParAbb', values='ResultValue')"
   ]
  },
  {
   "cell_type": "markdown",
   "metadata": {},
   "source": [
    "Drop columns from the pivot table that are pretty much empty."
   ]
  },
  {
   "cell_type": "code",
   "execution_count": 290,
   "metadata": {
    "collapsed": false
   },
   "outputs": [],
   "source": [
    "datap.dropna(subset=['SO4','Cond','Temp','TDS','pH'],how='all',inplace=True)"
   ]
  },
  {
   "cell_type": "markdown",
   "metadata": {},
   "source": [
    "The table lost the `StationId` field when it was pivoted, so now we need to add the `StationId` field back on to the table by joining it to the previous results table using the `SampleId` field.  First we parse down the results table to only the information we want to retain, then we join the tables."
   ]
  },
  {
   "cell_type": "code",
   "execution_count": 291,
   "metadata": {
    "collapsed": false
   },
   "outputs": [],
   "source": [
    "resdrop = ['AnalysisDate', 'AnalytMeth', 'AnalytMethId',\n",
    "             'DetectCond', 'LabComments', 'LabName', 'LimitType',\n",
    "             'MDL', 'MDLUnit', 'MethodDescript',\n",
    "             'OrgId', 'OrgName', 'Param', 'ProjectId',\n",
    "             'QualCode', 'ResultComment', 'ResultStatus', 'ResultValue',\n",
    "             'SampComment', 'SampDepth',\n",
    "             'SampDepthRef', 'SampDepthU', 'SampEquip', 'SampFrac',\n",
    "             'SampMedia', 'SampMeth', 'SampMethName', 'SampType',\n",
    "             'Unit', 'ParAbb']\n",
    "resPivot = results.drop(resdrop, axis=1)"
   ]
  },
  {
   "cell_type": "code",
   "execution_count": 292,
   "metadata": {
    "collapsed": false
   },
   "outputs": [],
   "source": [
    "datapiv = pd.merge(datap, resPivot, left_index=True, right_on='SampleId',how='left')"
   ]
  },
  {
   "cell_type": "markdown",
   "metadata": {},
   "source": [
    "Now that we have a `StationId` field, we can add our station data, but only the data that will be useful for plotting our data."
   ]
  },
  {
   "cell_type": "code",
   "execution_count": 293,
   "metadata": {
    "collapsed": false
   },
   "outputs": [],
   "source": [
    "pivStats = station.drop(['Aquifer', 'ConstDate', 'Depth', 'DepthUnit',\n",
    "                         'HoleDUnit', 'HoleDepth', \n",
    "                         'OrgId', 'StationComment', 'StationName', 'matchid'], axis=1)"
   ]
  },
  {
   "cell_type": "code",
   "execution_count": 294,
   "metadata": {
    "collapsed": false
   },
   "outputs": [
    {
     "data": {
      "text/plain": [
       "Index([u'Alk', u'As', u'CO2', u'CO3', u'Ca', u'Cl', u'Cond', u'Cu', u'DO',\n",
       "       u'Depth', u'Fe', u'HCO3', u'Hard', u'K', u'Mg', u'N', u'NH3_N', u'NO2',\n",
       "       u'NO3', u'Na', u'NaK', u'PO4', u'Q', u'SO4', u'Si', u'TDS', u'TSS',\n",
       "       u'Temp', u'Turb', u'pH', u'index', u'SampleDate', u'SampleId',\n",
       "       u'StationId'],\n",
       "      dtype='object', name=u'ParAbb')"
      ]
     },
     "execution_count": 294,
     "metadata": {},
     "output_type": "execute_result"
    }
   ],
   "source": [
    "datapiv.columns"
   ]
  },
  {
   "cell_type": "code",
   "execution_count": 298,
   "metadata": {
    "collapsed": false
   },
   "outputs": [],
   "source": [
    "mayoresults['SampleDate'] = mayoresults['Date']\n",
    "mayoresults['Q'] = mayoresults['Flow']\n",
    "mayoresults.drop(['Flow','Date','Site'],inplace=True,axis=1)"
   ]
  },
  {
   "cell_type": "code",
   "execution_count": 299,
   "metadata": {
    "collapsed": true
   },
   "outputs": [],
   "source": [
    "datapiv = pd.concat([mayoresults,datapiv])"
   ]
  },
  {
   "cell_type": "code",
   "execution_count": 300,
   "metadata": {
    "collapsed": false
   },
   "outputs": [],
   "source": [
    "datapiv = pd.merge(datapiv, pivStats, left_on='StationId', right_index=True, how='left')"
   ]
  },
  {
   "cell_type": "code",
   "execution_count": 301,
   "metadata": {
    "collapsed": false
   },
   "outputs": [
    {
     "ename": "MemoryError",
     "evalue": "",
     "output_type": "error",
     "traceback": [
      "\u001b[1;31m---------------------------------------------------------------------------\u001b[0m",
      "\u001b[1;31mMemoryError\u001b[0m                               Traceback (most recent call last)",
      "\u001b[1;32m<ipython-input-301-748a1d604436>\u001b[0m in \u001b[0;36m<module>\u001b[1;34m()\u001b[0m\n\u001b[1;32m----> 1\u001b[1;33m \u001b[0mdatapiv\u001b[0m\u001b[1;33m.\u001b[0m\u001b[0mdrop_duplicates\u001b[0m\u001b[1;33m(\u001b[0m\u001b[0minplace\u001b[0m\u001b[1;33m=\u001b[0m\u001b[0mTrue\u001b[0m\u001b[1;33m)\u001b[0m\u001b[1;33m\u001b[0m\u001b[0m\n\u001b[0m",
      "\u001b[1;32mC:\\Python27\\ArcGIS10.3\\lib\\site-packages\\pandas\\util\\decorators.pyc\u001b[0m in \u001b[0;36mwrapper\u001b[1;34m(*args, **kwargs)\u001b[0m\n\u001b[0;32m     86\u001b[0m                 \u001b[1;32melse\u001b[0m\u001b[1;33m:\u001b[0m\u001b[1;33m\u001b[0m\u001b[0m\n\u001b[0;32m     87\u001b[0m                     \u001b[0mkwargs\u001b[0m\u001b[1;33m[\u001b[0m\u001b[0mnew_arg_name\u001b[0m\u001b[1;33m]\u001b[0m \u001b[1;33m=\u001b[0m \u001b[0mnew_arg_value\u001b[0m\u001b[1;33m\u001b[0m\u001b[0m\n\u001b[1;32m---> 88\u001b[1;33m             \u001b[1;32mreturn\u001b[0m \u001b[0mfunc\u001b[0m\u001b[1;33m(\u001b[0m\u001b[1;33m*\u001b[0m\u001b[0margs\u001b[0m\u001b[1;33m,\u001b[0m \u001b[1;33m**\u001b[0m\u001b[0mkwargs\u001b[0m\u001b[1;33m)\u001b[0m\u001b[1;33m\u001b[0m\u001b[0m\n\u001b[0m\u001b[0;32m     89\u001b[0m         \u001b[1;32mreturn\u001b[0m \u001b[0mwrapper\u001b[0m\u001b[1;33m\u001b[0m\u001b[0m\n\u001b[0;32m     90\u001b[0m     \u001b[1;32mreturn\u001b[0m \u001b[0m_deprecate_kwarg\u001b[0m\u001b[1;33m\u001b[0m\u001b[0m\n",
      "\u001b[1;32mC:\\Python27\\ArcGIS10.3\\lib\\site-packages\\pandas\\core\\frame.pyc\u001b[0m in \u001b[0;36mdrop_duplicates\u001b[1;34m(self, subset, take_last, inplace)\u001b[0m\n\u001b[0;32m   2824\u001b[0m         \u001b[1;32mif\u001b[0m \u001b[0minplace\u001b[0m\u001b[1;33m:\u001b[0m\u001b[1;33m\u001b[0m\u001b[0m\n\u001b[0;32m   2825\u001b[0m             \u001b[0minds\u001b[0m\u001b[1;33m,\u001b[0m \u001b[1;33m=\u001b[0m \u001b[1;33m(\u001b[0m\u001b[1;33m-\u001b[0m\u001b[0mduplicated\u001b[0m\u001b[1;33m)\u001b[0m\u001b[1;33m.\u001b[0m\u001b[0mnonzero\u001b[0m\u001b[1;33m(\u001b[0m\u001b[1;33m)\u001b[0m\u001b[1;33m\u001b[0m\u001b[0m\n\u001b[1;32m-> 2826\u001b[1;33m             \u001b[0mnew_data\u001b[0m \u001b[1;33m=\u001b[0m \u001b[0mself\u001b[0m\u001b[1;33m.\u001b[0m\u001b[0m_data\u001b[0m\u001b[1;33m.\u001b[0m\u001b[0mtake\u001b[0m\u001b[1;33m(\u001b[0m\u001b[0minds\u001b[0m\u001b[1;33m)\u001b[0m\u001b[1;33m\u001b[0m\u001b[0m\n\u001b[0m\u001b[0;32m   2827\u001b[0m             \u001b[0mself\u001b[0m\u001b[1;33m.\u001b[0m\u001b[0m_update_inplace\u001b[0m\u001b[1;33m(\u001b[0m\u001b[0mnew_data\u001b[0m\u001b[1;33m)\u001b[0m\u001b[1;33m\u001b[0m\u001b[0m\n\u001b[0;32m   2828\u001b[0m         \u001b[1;32melse\u001b[0m\u001b[1;33m:\u001b[0m\u001b[1;33m\u001b[0m\u001b[0m\n",
      "\u001b[1;32mC:\\Python27\\ArcGIS10.3\\lib\\site-packages\\pandas\\core\\internals.pyc\u001b[0m in \u001b[0;36mtake\u001b[1;34m(self, indexer, axis, verify, convert)\u001b[0m\n\u001b[0;32m   3257\u001b[0m         \u001b[0mTake\u001b[0m \u001b[0mitems\u001b[0m \u001b[0malong\u001b[0m \u001b[0many\u001b[0m \u001b[0maxis\u001b[0m\u001b[1;33m.\u001b[0m\u001b[1;33m\u001b[0m\u001b[0m\n\u001b[0;32m   3258\u001b[0m         \"\"\"\n\u001b[1;32m-> 3259\u001b[1;33m         \u001b[0mself\u001b[0m\u001b[1;33m.\u001b[0m\u001b[0m_consolidate_inplace\u001b[0m\u001b[1;33m(\u001b[0m\u001b[1;33m)\u001b[0m\u001b[1;33m\u001b[0m\u001b[0m\n\u001b[0m\u001b[0;32m   3260\u001b[0m         indexer = np.arange(indexer.start, indexer.stop, indexer.step,\n\u001b[0;32m   3261\u001b[0m                             dtype='int64') if isinstance(indexer, slice) \\\n",
      "\u001b[1;32mC:\\Python27\\ArcGIS10.3\\lib\\site-packages\\pandas\\core\\internals.pyc\u001b[0m in \u001b[0;36m_consolidate_inplace\u001b[1;34m(self)\u001b[0m\n\u001b[0;32m   2836\u001b[0m     \u001b[1;32mdef\u001b[0m \u001b[0m_consolidate_inplace\u001b[0m\u001b[1;33m(\u001b[0m\u001b[0mself\u001b[0m\u001b[1;33m)\u001b[0m\u001b[1;33m:\u001b[0m\u001b[1;33m\u001b[0m\u001b[0m\n\u001b[0;32m   2837\u001b[0m         \u001b[1;32mif\u001b[0m \u001b[1;32mnot\u001b[0m \u001b[0mself\u001b[0m\u001b[1;33m.\u001b[0m\u001b[0mis_consolidated\u001b[0m\u001b[1;33m(\u001b[0m\u001b[1;33m)\u001b[0m\u001b[1;33m:\u001b[0m\u001b[1;33m\u001b[0m\u001b[0m\n\u001b[1;32m-> 2838\u001b[1;33m             \u001b[0mself\u001b[0m\u001b[1;33m.\u001b[0m\u001b[0mblocks\u001b[0m \u001b[1;33m=\u001b[0m \u001b[0mtuple\u001b[0m\u001b[1;33m(\u001b[0m\u001b[0m_consolidate\u001b[0m\u001b[1;33m(\u001b[0m\u001b[0mself\u001b[0m\u001b[1;33m.\u001b[0m\u001b[0mblocks\u001b[0m\u001b[1;33m)\u001b[0m\u001b[1;33m)\u001b[0m\u001b[1;33m\u001b[0m\u001b[0m\n\u001b[0m\u001b[0;32m   2839\u001b[0m \u001b[1;33m\u001b[0m\u001b[0m\n\u001b[0;32m   2840\u001b[0m             \u001b[0mself\u001b[0m\u001b[1;33m.\u001b[0m\u001b[0m_is_consolidated\u001b[0m \u001b[1;33m=\u001b[0m \u001b[0mTrue\u001b[0m\u001b[1;33m\u001b[0m\u001b[0m\n",
      "\u001b[1;32mC:\\Python27\\ArcGIS10.3\\lib\\site-packages\\pandas\\core\\internals.pyc\u001b[0m in \u001b[0;36m_consolidate\u001b[1;34m(blocks)\u001b[0m\n\u001b[0;32m   3815\u001b[0m     \u001b[1;32mfor\u001b[0m \u001b[1;33m(\u001b[0m\u001b[0m_can_consolidate\u001b[0m\u001b[1;33m,\u001b[0m \u001b[0mdtype\u001b[0m\u001b[1;33m)\u001b[0m\u001b[1;33m,\u001b[0m \u001b[0mgroup_blocks\u001b[0m \u001b[1;32min\u001b[0m \u001b[0mgrouper\u001b[0m\u001b[1;33m:\u001b[0m\u001b[1;33m\u001b[0m\u001b[0m\n\u001b[0;32m   3816\u001b[0m         merged_blocks = _merge_blocks(list(group_blocks), dtype=dtype,\n\u001b[1;32m-> 3817\u001b[1;33m                                       _can_consolidate=_can_consolidate)\n\u001b[0m\u001b[0;32m   3818\u001b[0m         \u001b[1;32mif\u001b[0m \u001b[0misinstance\u001b[0m\u001b[1;33m(\u001b[0m\u001b[0mmerged_blocks\u001b[0m\u001b[1;33m,\u001b[0m \u001b[0mlist\u001b[0m\u001b[1;33m)\u001b[0m\u001b[1;33m:\u001b[0m\u001b[1;33m\u001b[0m\u001b[0m\n\u001b[0;32m   3819\u001b[0m             \u001b[0mnew_blocks\u001b[0m\u001b[1;33m.\u001b[0m\u001b[0mextend\u001b[0m\u001b[1;33m(\u001b[0m\u001b[0mmerged_blocks\u001b[0m\u001b[1;33m)\u001b[0m\u001b[1;33m\u001b[0m\u001b[0m\n",
      "\u001b[1;32mC:\\Python27\\ArcGIS10.3\\lib\\site-packages\\pandas\\core\\internals.pyc\u001b[0m in \u001b[0;36m_merge_blocks\u001b[1;34m(blocks, dtype, _can_consolidate)\u001b[0m\n\u001b[0;32m   3841\u001b[0m \u001b[1;33m\u001b[0m\u001b[0m\n\u001b[0;32m   3842\u001b[0m         \u001b[0margsort\u001b[0m \u001b[1;33m=\u001b[0m \u001b[0mnp\u001b[0m\u001b[1;33m.\u001b[0m\u001b[0margsort\u001b[0m\u001b[1;33m(\u001b[0m\u001b[0mnew_mgr_locs\u001b[0m\u001b[1;33m)\u001b[0m\u001b[1;33m\u001b[0m\u001b[0m\n\u001b[1;32m-> 3843\u001b[1;33m         \u001b[0mnew_values\u001b[0m \u001b[1;33m=\u001b[0m \u001b[0mnew_values\u001b[0m\u001b[1;33m[\u001b[0m\u001b[0margsort\u001b[0m\u001b[1;33m]\u001b[0m\u001b[1;33m\u001b[0m\u001b[0m\n\u001b[0m\u001b[0;32m   3844\u001b[0m         \u001b[0mnew_mgr_locs\u001b[0m \u001b[1;33m=\u001b[0m \u001b[0mnew_mgr_locs\u001b[0m\u001b[1;33m[\u001b[0m\u001b[0margsort\u001b[0m\u001b[1;33m]\u001b[0m\u001b[1;33m\u001b[0m\u001b[0m\n\u001b[0;32m   3845\u001b[0m \u001b[1;33m\u001b[0m\u001b[0m\n",
      "\u001b[1;31mMemoryError\u001b[0m: "
     ]
    }
   ],
   "source": [
    "datapiv.drop_duplicates(inplace=True)"
   ]
  },
  {
   "cell_type": "code",
   "execution_count": null,
   "metadata": {
    "collapsed": false
   },
   "outputs": [],
   "source": [
    "datapiv.to_csv(rootname+\"AllResultsPivot.csv\", chunksize=10000)"
   ]
  },
  {
   "cell_type": "markdown",
   "metadata": {
    "collapsed": false
   },
   "source": [
    "#Create Table For Plotting"
   ]
  },
  {
   "cell_type": "code",
   "execution_count": null,
   "metadata": {
    "collapsed": false
   },
   "outputs": [],
   "source": [
    "piperdata = datapiv.dropna(subset = ['Ca','Na','Cl','K','Mg','SO4'],how='any')"
   ]
  },
  {
   "cell_type": "markdown",
   "metadata": {},
   "source": [
    "Find Relationship between Bicarbonate and Alkalinity.  Fill in missing bicarbonate values."
   ]
  },
  {
   "cell_type": "code",
   "execution_count": null,
   "metadata": {
    "collapsed": true
   },
   "outputs": [],
   "source": [
    "from scipy.stats import linregress"
   ]
  },
  {
   "cell_type": "code",
   "execution_count": null,
   "metadata": {
    "collapsed": false
   },
   "outputs": [],
   "source": [
    "piv = piperdata.ix[:,['Alk','HCO3']]\n",
    "piv = piv[(piv.Alk < 5000)&(piv.HCO3 < 5000)]\n",
    "piv = piv[(piv.Alk > 0)&(piv.HCO3 > 0)]\n",
    "piv.dropna(inplace=True)\n",
    "lin = linregress(piv.Alk.values,piv.HCO3.values)\n",
    "print lin\n",
    "piperdata.ix[:,\"HCO3\"] = piperdata.apply(lambda x: x['Alk']*lin[0]+lin[1] if np.isnan(x['HCO3']) else x['HCO3'],1)"
   ]
  },
  {
   "cell_type": "code",
   "execution_count": null,
   "metadata": {
    "collapsed": false
   },
   "outputs": [],
   "source": [
    "piperdata = piperdata.drop(['Alk','As','CO2','Cu','DO','NaK','PO4'], axis=1)"
   ]
  },
  {
   "cell_type": "code",
   "execution_count": null,
   "metadata": {
    "collapsed": true
   },
   "outputs": [],
   "source": [
    "piperdata.dropna(subset=['Lat_Y','HCO3'], how='any', inplace=True)"
   ]
  },
  {
   "cell_type": "code",
   "execution_count": null,
   "metadata": {
    "collapsed": false
   },
   "outputs": [],
   "source": [
    "piperdata = pd.merge(piperdata, StatFreq, on='StationId', how='left')"
   ]
  },
  {
   "cell_type": "code",
   "execution_count": null,
   "metadata": {
    "collapsed": false
   },
   "outputs": [],
   "source": [
    "d = {'Ca':0.04990269, 'Mg':0.082287595, 'Na':0.043497608, 'K':0.02557656, 'Cl':0.028206596, \n",
    "     'HCO3':0.016388838, 'CO3':0.033328223, 'SO4':0.020833333, 'NO2':0.021736513, 'NO3':0.016129032}\n",
    "parList = ['Ca','Mg','Na','K','Cl','HCO3','SO4']\n",
    "\n",
    "\n",
    "def CO3zero(x):\n",
    "    if (np.isnan(x)):\n",
    "        return 0.0\n",
    "    else:\n",
    "        return x\n",
    "\n",
    "def chrgbal(x):\n",
    "    cation = (x[0]*d['Na'] + x[1]*d['K'] + x[2]*d['Mg'] + x[3]*d['Ca'])\n",
    "    anion = (x[4]*d['Cl'] + x[5]*d['HCO3'] + x[6]*d['CO3'] + x[7]*d['SO4']) \n",
    "    return  (cation - anion)/(cation+anion)*100"
   ]
  },
  {
   "cell_type": "code",
   "execution_count": null,
   "metadata": {
    "collapsed": true
   },
   "outputs": [],
   "source": [
    "piperdata['CO3'] = piperdata['CO3'].apply(lambda x: CO3zero(x),1)\n",
    "piperdata['chrgbal'] = piperdata[['Na','K','Mg','Ca','Cl','HCO3','CO3','SO4']].apply(lambda x: chrgbal(x),1)"
   ]
  },
  {
   "cell_type": "code",
   "execution_count": null,
   "metadata": {
    "collapsed": true
   },
   "outputs": [],
   "source": [
    "for par in parList:\n",
    "    piperdata[par+\"_mql\"] = piperdata[par].apply(lambda x: x*d[par],1)"
   ]
  },
  {
   "cell_type": "code",
   "execution_count": null,
   "metadata": {
    "collapsed": false
   },
   "outputs": [],
   "source": [
    "piperdata = piperdata[abs(piperdata['chrgbal']) < 5.0]"
   ]
  },
  {
   "cell_type": "code",
   "execution_count": null,
   "metadata": {
    "collapsed": true
   },
   "outputs": [],
   "source": [
    "piperdata.to_csv(rootname+\"PiperData.csv\")"
   ]
  },
  {
   "cell_type": "code",
   "execution_count": null,
   "metadata": {
    "collapsed": false
   },
   "outputs": [],
   "source": [
    "piperdata.groupby('FmType')['Mg_mql'].agg([np.min, np.mean, np.median, np.max, np.std, np.size]).reset_index()"
   ]
  },
  {
   "cell_type": "code",
   "execution_count": null,
   "metadata": {
    "collapsed": false
   },
   "outputs": [],
   "source": [
    "print piperdata.groupby('FmType')['StationId'].nunique()\n",
    "piperdata.groupby('StationType')['StationId'].nunique()"
   ]
  },
  {
   "cell_type": "code",
   "execution_count": null,
   "metadata": {
    "collapsed": true
   },
   "outputs": [],
   "source": [
    "names = list(set(list(piperdata.columns)) - set(['SampleDate', 'SampleId', 'StationId', 'FmType', 'Lat_Y', \n",
    "                                          'Lon_X', 'OrgName', 'StationType','DEM','HorCollMet','PLSS','USGSCAD',\n",
    "                                              'UNITNAME', 'Elev', 'MAP_UNIT_SYMBOL', u'HUC_12', u'HUC_10',\n",
    "                                              'Depth', u'OBJECTID', u'ElevUnit',u'HU_12_NAME',u'HU_10_NAME', u'FmNum']))"
   ]
  },
  {
   "cell_type": "code",
   "execution_count": null,
   "metadata": {
    "collapsed": false
   },
   "outputs": [],
   "source": [
    "Forms = pd.DataFrame(fmdict.items(),columns=['FmType','FmNum'] )"
   ]
  },
  {
   "cell_type": "code",
   "execution_count": null,
   "metadata": {
    "collapsed": true
   },
   "outputs": [],
   "source": [
    "?pd.merge"
   ]
  },
  {
   "cell_type": "code",
   "execution_count": null,
   "metadata": {
    "collapsed": false,
    "scrolled": true
   },
   "outputs": [],
   "source": [
    "names = list(set(list(piperdata.columns)) - set(['SampleDate', 'SampleId', 'StationId', 'FmType', 'Lat_Y', \n",
    "                                          'Lon_X', 'OrgName', 'StationType','DEM','HorCollMet','PLSS','USGSCAD',\n",
    "                                              'UNITNAME', 'Elev', 'MAP_UNIT_SYMBOL', u'HUC_12', u'HUC_10',\n",
    "                                              'Depth', u'OBJECTID', u'ElevUnit',u'HU_12_NAME',u'HU_10_NAME', u'FmNum',\n",
    "                                                'count_nonzero','chrgbal']))\n",
    "print names\n",
    "\n",
    "rc('font', family='Arial')\n",
    "pdf = PdfPages(rootname+'pipergeoboxes.pdf')\n",
    "j = {}\n",
    "\n",
    "for i in range(len(names)):\n",
    "    fms = piperdata[[names[i],'FmNum','FmType']]\n",
    "    fms.dropna(inplace=True)\n",
    "    fms = fms[~fms['FmType'].isin([' ','', np.nan, 'Green River Formation', 'Rock Springs Formation of Mesaverde Group', \n",
    "                                   'Holocene Alluvium', 'Masuk Member of Mancos Shale', \n",
    "                                   'Tununk Shale Member of Mancos Shale', 'Blue Gate Shale Member of Mancos Shale', \n",
    "                                   'Emery Sandstone Member of Mancos Shale', 'Pleistocene Series', \n",
    "                             'Paleozoic Erathem', 'Mancos Shale'])]\n",
    "    if len(fms)>30:\n",
    "        j[names[i]] = fms.groupby('FmNum')[names[i]].agg([np.min, np.mean, np.median, np.max, np.std, np.size]).reset_index()\n",
    "        j[names[i]] = pd.merge(j[names[i]],Forms, left_on='FmNum', right_on='FmNum',how='left')\n",
    "        labs = [str(j[names[i]]['FmType'][b]) + \" (n=\" + str(int(j[names[i]]['size'][b])) + \")\" for b in range(len(j[names[i]][va]))]\n",
    "        tickloc = [b+1 for b in range(len(j[names[i]][va]))]\n",
    "        ax = fms.boxplot(column=names[i], by='FmNum', vert=False)\n",
    "        try:\n",
    "            plt.title(ParAbb.keys()[ParAbb.values().index(names[i])])\n",
    "        except(ValueError):\n",
    "            plt.title(names[i])\n",
    "        plt.suptitle('')\n",
    "        plt.yticks(tickloc, labs)\n",
    "        fig = ax.get_figure()\n",
    "        if ParUnAbb.get(names[i],'') == '':\n",
    "            units = names[i]\n",
    "        else:\n",
    "            units = u'%s (%s)'%(names[i],ParUnAbb.get(names[i]))\n",
    "        plt.xlabel(units)     \n",
    "        if np.max(fms[names[i]].values) > 100:\n",
    "            plt.xscale('log')  \n",
    "        plt.tight_layout()      \n",
    "        pdf.savefig(fig)\n",
    "        plt.close()\n",
    "pdf.close()\n",
    "parsum = pd.concat(j)\n",
    "parsum.to_csv(rootname + \"geology_stats.csv\")"
   ]
  },
  {
   "cell_type": "code",
   "execution_count": null,
   "metadata": {
    "collapsed": false,
    "scrolled": true
   },
   "outputs": [],
   "source": [
    "names = list(set(list(piperdata.columns)) - set(['SampleDate', 'SampleId', 'StationId', 'FmType', 'Lat_Y', \n",
    "                                          'Lon_X', 'OrgName', 'StationType','DEM','HorCollMet','PLSS','USGSCAD',\n",
    "                                              'UNITNAME', 'Elev', 'MAP_UNIT_SYMBOL', u'HUC_12', u'HUC_10',\n",
    "                                              'Depth', u'OBJECTID', u'ElevUnit',u'HU_12_NAME',u'HU_10_NAME', \n",
    "                                                 u'FmNum', u'FmNum',\n",
    "                                                'count_nonzero','chrgbal']))\n",
    "print names\n",
    "\n",
    "pipersprings = piperdata[piperdata['StationType']=='Spring']\n",
    "\n",
    "rc('font', family='Arial')\n",
    "pdf = PdfPages(rootname+'piperspringsgeoboxes.pdf')\n",
    "j = {}\n",
    "\n",
    "for i in range(len(names)):\n",
    "    fms = pipersprings[[names[i],'FmNum']]\n",
    "    fms.dropna(inplace=True)\n",
    "    fms = fms[~fms[va].isin([' ','', np.nan, 'Green River Formation', 'Rock Springs Formation of Mesaverde Group', \n",
    "                                   'Holocene Alluvium', 'Masuk Member of Mancos Shale', \n",
    "                                   'Tununk Shale Member of Mancos Shale', 'Blue Gate Shale Member of Mancos Shale', \n",
    "                                   'Emery Sandstone Member of Mancos Shale', 'Pleistocene Series', 'Paleozoic Erathem',\n",
    "                             'Mancos Shale', 'Ferron Sandstone Member of Mancos Shale'])]\n",
    "    if len(fms)>30:\n",
    "        j[names[i]] = fms.groupby('FmNum')[names[i]].agg([np.min, np.mean, np.median, np.max, np.std, np.size]).reset_index()\n",
    "        j[names[i]] = pd.merge(j[names[i]],Forms, left_on='FmNum', right_on='FmNum',how='left')\n",
    "        labs = [str(j[names[i]]['FmType'][b]) + \" (n=\" + str(int(j[names[i]]['size'][b])) + \")\" for b in range(len(j[names[i]][va]))]\n",
    "        tickloc = [b+1 for b in range(len(j[names[i]][va]))]\n",
    "        ax = fms.boxplot(column=names[i], by='FmNum', vert=False)\n",
    "        try:\n",
    "            plt.title(ParAbb.keys()[ParAbb.values().index(names[i])])\n",
    "        except(ValueError):\n",
    "            plt.title(names[i])\n",
    "        plt.suptitle('')\n",
    "        plt.yticks(tickloc, labs)\n",
    "        fig = ax.get_figure()\n",
    "        if ParUnAbb.get(names[i],'') == '':\n",
    "            units = names[i]\n",
    "        else:\n",
    "            units = u'%s (%s)'%(names[i],ParUnAbb.get(names[i]))\n",
    "        plt.xlabel(units)     \n",
    "        if np.max(fms[names[i]].values) > 100:\n",
    "            plt.xscale('log')  \n",
    "        plt.tight_layout()      \n",
    "        pdf.savefig(fig)\n",
    "        plt.close()\n",
    "pdf.close()\n",
    "parsum = pd.concat(j)\n",
    "parsum.to_csv(rootname + \"springs_geology_stats.csv\")"
   ]
  },
  {
   "cell_type": "code",
   "execution_count": null,
   "metadata": {
    "collapsed": false
   },
   "outputs": [],
   "source": [
    "pdf = PdfPages(rootname+'hucboxes.pdf')\n",
    "j = {}\n",
    "for i in range(len(names)):\n",
    "    hucs = datapiv[[names[i],'HU_10_NAME']]\n",
    "    hucs.dropna(inplace=True)\n",
    "    hucs = hucs[~hucs['HU_10_NAME'].isin([' ','', np.nan, 'Spanish Fork Creek',\n",
    "                                          'Twelvemile Creek','Chicken Creek','North Salt Wash', 'West Creek'])]\n",
    "    if len(hucs)>30:\n",
    "        j[names[i]] = hucs.groupby('HU_10_NAME')[names[i]].agg([np.min, np.mean, np.median, np.max, np.std, np.size]).reset_index()\n",
    "        labs = [str(j[names[i]]['HU_10_NAME'][b]) + \" (n=\" + str(int(j[names[i]]['size'][b])) + \")\" for b in range(len(j[names[i]]['HU_10_NAME']))]\n",
    "        tickloc = [b+1 for b in range(len(j[names[i]]['HU_10_NAME']))]              \n",
    "        ax = hucs.boxplot(column=names[i],by='HU_10_NAME',vert=False)\n",
    "        plt.suptitle('')\n",
    "        plt.title(ParAbb.keys()[ParAbb.values().index(names[i])])\n",
    "        plt.yticks(tickloc, labs)\n",
    "        fig = ax.get_figure() \n",
    "        if ParUnAbb.get(names[i],'') == '':\n",
    "            units = names[i]\n",
    "        else:\n",
    "            units = names[i] +' (' + u'%s'% (ParUnAbb.get(names[i])) +')'\n",
    "        plt.xlabel(units) \n",
    "        if np.max(hucs[names[i]].values) > 100:\n",
    "            plt.xscale('log')\n",
    "        \n",
    "        plt.tight_layout()\n",
    "        \n",
    "        pdf.savefig(fig)\n",
    "        plt.close()\n",
    "pdf.close()\n",
    "parsum = pd.concat(j)\n",
    "parsum.to_csv(rootname + \"stream_stats.csv\")"
   ]
  },
  {
   "cell_type": "code",
   "execution_count": null,
   "metadata": {
    "collapsed": false
   },
   "outputs": [],
   "source": [
    "datapivcor = datapiv.dropna(subset=['TDS','Q'],how='any')\n",
    "datapivcor = datapivcor[datapivcor['Q']>1]\n",
    "datapivcor = datapivcor[datapivcor['TDS']<10000]\n",
    "datapivcor = datapivcor[datapivcor['StationType'].isin(['Stream','Spring'])]\n",
    "pdf = PdfPages(rootname+'Q_TDS.pdf')\n",
    "\n",
    "for key, grp in datapivcor.groupby(['StationId']):\n",
    "    lin = linregress(grp['Q'],grp['TDS'])\n",
    "    if len(grp) > 3:\n",
    "        if lin[2]>0.5:\n",
    "            fig = plt.figure()\n",
    "            plt.scatter(x=grp['Q'],y= grp['TDS'], label=key)\n",
    "            plt.title(str(key) + ' ' +str(grp['StationType'].values[0]))\n",
    "            plt.xlabel('Discharge (gpm)')\n",
    "            plt.ylabel('TDS (mg/L)')\n",
    "            plt.legend(loc='best')    \n",
    "            pdf.savefig(fig)\n",
    "            plt.close()\n",
    "pdf.close()\n",
    "    \n",
    "            "
   ]
  }
 ],
 "metadata": {
  "kernelspec": {
   "display_name": "Python 2",
   "language": "python",
   "name": "python2"
  },
  "language_info": {
   "codemirror_mode": {
    "name": "ipython",
    "version": 2
   },
   "file_extension": ".py",
   "mimetype": "text/x-python",
   "name": "python",
   "nbconvert_exporter": "python",
   "pygments_lexer": "ipython2",
   "version": "2.7.8"
  }
 },
 "nbformat": 4,
 "nbformat_minor": 0
}
